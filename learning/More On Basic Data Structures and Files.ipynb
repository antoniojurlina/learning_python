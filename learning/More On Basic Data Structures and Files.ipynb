{
 "cells": [
  {
   "cell_type": "markdown",
   "metadata": {},
   "source": [
    "#### Iteratables"
   ]
  },
  {
   "cell_type": "markdown",
   "metadata": {},
   "source": [
    "An iterable is any object that can return its members one at a time. \n",
    "By definition, iterables support the iterator protocol, which specifies how object members are returned when an object is used in an iterator. \n",
    "\n",
    "Sequences are iterables.  List, sets, tuples are sequences and iterables.\n",
    "A dict is not a sequence but is iterable on its keys, values and items\n"
   ]
  },
  {
   "cell_type": "markdown",
   "metadata": {},
   "source": [
    "If you want to keep track of the index of an item in a list as well as the value on an iteration you can create a variable to store the index and update it on each iteration:"
   ]
  },
  {
   "cell_type": "code",
   "execution_count": null,
   "metadata": {},
   "outputs": [],
   "source": [
    "values = [\"a\", \"b\", \"c\"]\n",
    "\n",
    "index = 0\n",
    "\n",
    "for value in values:\n",
    "    print(index, value)\n",
    "    index += 1"
   ]
  },
  {
   "cell_type": "markdown",
   "metadata": {},
   "source": [
    "The enumerate()function gives you back two loop variables:\n",
    "\n",
    "The count of the current iteration and \n",
    "the value of the item at the current iteration"
   ]
  },
  {
   "cell_type": "code",
   "execution_count": null,
   "metadata": {},
   "outputs": [],
   "source": [
    "for count, value in enumerate(values):\n",
    "    print(count, value)"
   ]
  },
  {
   "cell_type": "code",
   "execution_count": 1,
   "metadata": {},
   "outputs": [
    {
     "name": "stdout",
     "output_type": "stream",
     "text": [
      "1 apple\n",
      "2 banana\n",
      "3 grapes\n",
      "4 pear\n"
     ]
    }
   ],
   "source": [
    "my_list = ['apple', 'banana', 'grapes', 'pear']\n",
    "for c, value in enumerate(my_list, 1):\n",
    "    print(c, value)\n"
   ]
  },
  {
   "cell_type": "raw",
   "metadata": {},
   "source": [
    "[c for c,_ in enumerate(my_list)]"
   ]
  },
  {
   "cell_type": "markdown",
   "metadata": {},
   "source": [
    "### Working with Files and Text in Python\n",
    "\n",
    "We will move on to working primarily with Pandas, but it is useful to know basic file operations \n"
   ]
  },
  {
   "cell_type": "markdown",
   "metadata": {},
   "source": [
    "#### Parsing Text\n",
    "Know how to open and read lines (characters) from  a file.\n",
    "\n",
    "know some string manipulation methods\n",
    "\n",
    "* how to read a string, \n",
    "* search for values in a string, \n",
    "* split up a string based on some delimiting value(s) \n",
    "* extract particular segments of a string.\n",
    "* use data structures to support string and file manipultations "
   ]
  },
  {
   "cell_type": "markdown",
   "metadata": {},
   "source": [
    "### General Strategy\n",
    "\n",
    "* Open the file.\n",
    "* Read a header line if it exists\n",
    "* Read the rest of the lines.\n",
    "* Do something to the line contents\n",
    "* Write extracted contents to data structures, or to output files"
   ]
  },
  {
   "cell_type": "markdown",
   "metadata": {},
   "source": [
    "### Opening a file\n",
    "Use the built-in open() method.\n",
    "\n",
    "The open method can take up to three parameters: a filename, a mode, and a buffering parameter.\n",
    "\n",
    "Only the filename, is required.\n",
    "\n",
    "Using the open() method creates a file object.\n"
   ]
  },
  {
   "cell_type": "code",
   "execution_count": 16,
   "metadata": {},
   "outputs": [
    {
     "data": {
      "text/plain": [
       "_io.TextIOWrapper"
      ]
     },
     "execution_count": 16,
     "metadata": {},
     "output_type": "execute_result"
    }
   ],
   "source": [
    "popdata = open(r\"C:\\Courses\\DSE Practicum\\Data\\MECovid.txt\", \"r\")\n",
    "type(popdata)"
   ]
  },
  {
   "cell_type": "markdown",
   "metadata": {},
   "source": [
    "#### modes\n",
    "* 'r' when the file will only be read \n",
    "* 'w' for only writing (an existing file with the same name will be erased)\n",
    "* 'a' opens the file for appending; any data written to the file is automatically added to the end. \n"
   ]
  },
  {
   "cell_type": "code",
   "execution_count": 11,
   "metadata": {},
   "outputs": [
    {
     "data": {
      "text/plain": [
       "'r'"
      ]
     },
     "execution_count": 11,
     "metadata": {},
     "output_type": "execute_result"
    }
   ],
   "source": [
    "popdata.mode"
   ]
  },
  {
   "cell_type": "code",
   "execution_count": 17,
   "metadata": {},
   "outputs": [
    {
     "data": {
      "text/plain": [
       "'C:\\\\Courses\\\\DSE Practicum\\\\Data\\\\MECovid.txt'"
      ]
     },
     "execution_count": 17,
     "metadata": {},
     "output_type": "execute_result"
    }
   ],
   "source": [
    "popdata.name"
   ]
  },
  {
   "cell_type": "markdown",
   "metadata": {},
   "source": [
    "### Reading from a file\n",
    "\n",
    "You read from a file with the read method\n",
    "\n",
    "file.read(size)\n",
    "\n",
    "reads some quantity of data (given by size) and returns it as a string\n",
    "\n",
    "When size is omitted or negative, the entire contents of the file will be read and returned – best to avoid this for a large file\n",
    "\n"
   ]
  },
  {
   "cell_type": "markdown",
   "metadata": {},
   "source": [
    "### Read a single line\n",
    "The file class also has a method for reading a single line.\n",
    "\n",
    "file.readline()\n",
    "\n",
    "    line = popdata.readline()\n",
    "\n",
    "A text file is typically structured as a sequence of lines and a line is a sequence of characters.\n",
    "\n",
    "A line is terminated by a EOL (End Of Line) character.\n",
    "\n",
    "The most common line terminator is the \\n , or the newline character.\n",
    "\n",
    "For a file with a header you can use readline to get the header information\n",
    "\n",
    "\\t indicates a tab delimiter"
   ]
  },
  {
   "cell_type": "code",
   "execution_count": 18,
   "metadata": {},
   "outputs": [
    {
     "data": {
      "text/plain": [
       "'No\\tCounty\\tPopulation\\tDATA_AS_OF_DT\\tcases\\tdeaths\\thospitalizations\\n'"
      ]
     },
     "execution_count": 18,
     "metadata": {},
     "output_type": "execute_result"
    }
   ],
   "source": [
    "header1 = popdata.readline() \n",
    "header1"
   ]
  },
  {
   "cell_type": "code",
   "execution_count": 19,
   "metadata": {},
   "outputs": [
    {
     "data": {
      "text/plain": [
       "'1\\tCumberland\\t292307\\t1/27/2021\\t10993\\t151\\t368\\n'"
      ]
     },
     "execution_count": 19,
     "metadata": {},
     "output_type": "execute_result"
    }
   ],
   "source": [
    "line1 = popdata.readline()\n",
    "line1"
   ]
  },
  {
   "cell_type": "markdown",
   "metadata": {},
   "source": [
    "To read in multilpe lines, typically use a for loop\n",
    "\n",
    "A file is an iterator type so you can extract each line with a for loop\n",
    "\n",
    "    for line in file: \n",
    "\n",
    "      print line \n"
   ]
  },
  {
   "cell_type": "code",
   "execution_count": null,
   "metadata": {},
   "outputs": [],
   "source": []
  },
  {
   "cell_type": "markdown",
   "metadata": {},
   "source": [
    "#### Closing a file\n",
    "\n",
    "You should always close a file with the close method.\n",
    "e.g. gpsdata.close()\n",
    "\n",
    "#### Using the with pattern\n",
    "\n",
    "The “with” pattern opens a file and automatically closes it. The with statement provides a way to ensure that a clean-up is always used.\n",
    "\n",
    "    with open(r\"C:\\Courses\\DSE Practicum\\Data\\MECovid.txt\") as file:\n",
    "         for line in file:\n",
    "           print(line)\n"
   ]
  },
  {
   "cell_type": "code",
   "execution_count": 31,
   "metadata": {},
   "outputs": [
    {
     "name": "stdout",
     "output_type": "stream",
     "text": [
      "1\tCumberland\t292307\t1/27/2021\t10993\t151\t368\n",
      "\n",
      "2\tYork\t204316\t1/27/2021\t8259\t97\t280\n",
      "\n",
      "3\tPenobscot\t151774\t1/27/2021\t3332\t58\t164\n",
      "\n",
      "4\tKennebec\t121753\t1/27/2021\t3022\t42\t106\n",
      "\n",
      "5\tAndroscoggin\t107602\t1/27/2021\t4208\t52\t139\n",
      "\n",
      "6\tAroostook\t67809\t1/27/2021\t1115\t35\t56\n",
      "\n",
      "7\tOxford\t57550\t1/27/2021\t1863\t34\t53\n",
      "\n",
      "8\tHancock\t54601\t1/27/2021\t766\t30\t37\n",
      "\n",
      "9\tSomerset\t50520\t1/27/2021\t1066\t25\t51\n",
      "\n",
      "10\tKnox\t39759\t1/27/2021\t572\t4\t18\n",
      "\n",
      "11\tWaldo\t39539\t1/27/2021\t505\t18\t23\n",
      "\n",
      "12\tSagadahoc\t35452\t1/27/2021\t753\t1\t16\n",
      "\n",
      "13\tLincoln\t34201\t1/27/2021\t462\t2\t15\n",
      "\n",
      "14\tWashington\t31491\t1/27/2021\t603\t9\t22\n",
      "\n",
      "15\tFranklin\t29982\t1/27/2021\t740\t8\t16\n",
      "\n",
      "16\tPiscataquis\t16836\t1/27/2021\t194\t1\t11\n",
      "\n"
     ]
    }
   ],
   "source": [
    "with open(r\"C:\\Courses\\DSE Practicum\\Data\\MECovid.txt\") as file:\n",
    "    #header1 = file.readline() \n",
    "    for line in file:\n",
    "            print (line)"
   ]
  },
  {
   "cell_type": "markdown",
   "metadata": {},
   "source": [
    "### String Operations\n",
    "\n",
    "Once you have a line from a file you typically want to extract information from the file, or do some reformatting. "
   ]
  },
  {
   "cell_type": "markdown",
   "metadata": {},
   "source": [
    "### Split method\n",
    "\n",
    "split([sep [,maxsplit]])\n",
    "\n",
    "Return a list of the words in the string, using sep as the delimiter string\n",
    "\n",
    "Default separator is white space\n",
    "\n",
    "If maxsplit is given, at most maxsplit splits are done\n",
    "\n",
    "   with open(r\"C:\\Courses\\DSE Practicum\\Data\\MECovid.txt\") as file:\n",
    "     for line in file:\n",
    "            linesegment =line.split()\n",
    "            print (linesegment)\n",
    "            "
   ]
  },
  {
   "cell_type": "code",
   "execution_count": 30,
   "metadata": {},
   "outputs": [
    {
     "name": "stdout",
     "output_type": "stream",
     "text": [
      "['No', 'County', 'Population', 'DATA_AS_OF_DT', 'cases', 'deaths', 'hospitalizations\\n']\n",
      "['1', 'Cumberland', '292307', '1/27/2021', '10993', '151', '368\\n']\n",
      "['2', 'York', '204316', '1/27/2021', '8259', '97', '280\\n']\n",
      "['3', 'Penobscot', '151774', '1/27/2021', '3332', '58', '164\\n']\n",
      "['4', 'Kennebec', '121753', '1/27/2021', '3022', '42', '106\\n']\n",
      "['5', 'Androscoggin', '107602', '1/27/2021', '4208', '52', '139\\n']\n",
      "['6', 'Aroostook', '67809', '1/27/2021', '1115', '35', '56\\n']\n",
      "['7', 'Oxford', '57550', '1/27/2021', '1863', '34', '53\\n']\n",
      "['8', 'Hancock', '54601', '1/27/2021', '766', '30', '37\\n']\n",
      "['9', 'Somerset', '50520', '1/27/2021', '1066', '25', '51\\n']\n",
      "['10', 'Knox', '39759', '1/27/2021', '572', '4', '18\\n']\n",
      "['11', 'Waldo', '39539', '1/27/2021', '505', '18', '23\\n']\n",
      "['12', 'Sagadahoc', '35452', '1/27/2021', '753', '1', '16\\n']\n",
      "['13', 'Lincoln', '34201', '1/27/2021', '462', '2', '15\\n']\n",
      "['14', 'Washington', '31491', '1/27/2021', '603', '9', '22\\n']\n",
      "['15', 'Franklin', '29982', '1/27/2021', '740', '8', '16\\n']\n",
      "['16', 'Piscataquis', '16836', '1/27/2021', '194', '1', '11\\n']\n"
     ]
    }
   ],
   "source": [
    " with open(r\"C:\\Courses\\DSE Practicum\\Data\\MECovid.txt\") as file:\n",
    "        for line in file:\n",
    "            linesegment =line.split(\"\\t\")\n",
    "            print (linesegment)\n",
    "            "
   ]
  },
  {
   "cell_type": "markdown",
   "metadata": {},
   "source": [
    "### String find\n",
    "\n",
    "Returns the lowest index in the string where substring sub is found, such that sub is contained in the slice s[start:end]. \n",
    "\n",
    "str.find(sub[, start[, end]])\n",
    "\n",
    "\n",
    "Returns -1 if sub is not found. \n"
   ]
  },
  {
   "cell_type": "code",
   "execution_count": 3,
   "metadata": {},
   "outputs": [
    {
     "ename": "FileNotFoundError",
     "evalue": "[Errno 2] No such file or directory: 'C:\\\\Courses\\\\DSE Practicum\\\\Data\\\\MECovid.txt'",
     "output_type": "error",
     "traceback": [
      "\u001b[0;31m---------------------------------------------------------------------------\u001b[0m",
      "\u001b[0;31mFileNotFoundError\u001b[0m                         Traceback (most recent call last)",
      "\u001b[0;32m<ipython-input-3-ee3ebfb9cc9f>\u001b[0m in \u001b[0;36m<module>\u001b[0;34m\u001b[0m\n\u001b[0;32m----> 1\u001b[0;31m \u001b[0;32mwith\u001b[0m \u001b[0mopen\u001b[0m\u001b[0;34m(\u001b[0m\u001b[0;34mr\"C:\\Courses\\DSE Practicum\\Data\\MECovid.txt\"\u001b[0m\u001b[0;34m)\u001b[0m \u001b[0;32mas\u001b[0m \u001b[0mfile\u001b[0m\u001b[0;34m:\u001b[0m\u001b[0;34m\u001b[0m\u001b[0;34m\u001b[0m\u001b[0m\n\u001b[0m\u001b[1;32m      2\u001b[0m        \u001b[0mheader\u001b[0m\u001b[0;34m=\u001b[0m\u001b[0mfile\u001b[0m\u001b[0;34m.\u001b[0m\u001b[0mreadline\u001b[0m\u001b[0;34m(\u001b[0m\u001b[0;34m)\u001b[0m\u001b[0;34m\u001b[0m\u001b[0;34m\u001b[0m\u001b[0m\n\u001b[1;32m      3\u001b[0m        \u001b[0;32mfor\u001b[0m \u001b[0mline\u001b[0m \u001b[0;32min\u001b[0m \u001b[0mfile\u001b[0m\u001b[0;34m:\u001b[0m\u001b[0;34m\u001b[0m\u001b[0;34m\u001b[0m\u001b[0m\n\u001b[1;32m      4\u001b[0m            \u001b[0mindex\u001b[0m \u001b[0;34m=\u001b[0m\u001b[0mline\u001b[0m\u001b[0;34m.\u001b[0m\u001b[0mfind\u001b[0m\u001b[0;34m(\u001b[0m\u001b[0;34m\"Oxford\"\u001b[0m\u001b[0;34m)\u001b[0m\u001b[0;34m\u001b[0m\u001b[0;34m\u001b[0m\u001b[0m\n\u001b[1;32m      5\u001b[0m            \u001b[0mprint\u001b[0m \u001b[0;34m(\u001b[0m\u001b[0mline\u001b[0m\u001b[0;34m,\u001b[0m \u001b[0mindex\u001b[0m\u001b[0;34m)\u001b[0m\u001b[0;34m\u001b[0m\u001b[0;34m\u001b[0m\u001b[0m\n",
      "\u001b[0;31mFileNotFoundError\u001b[0m: [Errno 2] No such file or directory: 'C:\\\\Courses\\\\DSE Practicum\\\\Data\\\\MECovid.txt'"
     ]
    }
   ],
   "source": [
    " with open(r\"C:\\Courses\\DSE Practicum\\Data\\MECovid.txt\") as file:\n",
    "        header=file.readline()\n",
    "        for line in file:\n",
    "            index =line.find(\"Oxford\")\n",
    "            print (line, index)\n",
    "        "
   ]
  },
  {
   "cell_type": "markdown",
   "metadata": {},
   "source": [
    "### String index\n",
    "\n",
    "str.index(sub[, start[, end]])\n",
    "\n",
    "Like find(), but raises ValueError when the substring is not found\n"
   ]
  },
  {
   "cell_type": "code",
   "execution_count": 36,
   "metadata": {},
   "outputs": [
    {
     "name": "stdout",
     "output_type": "stream",
     "text": [
      "1\tCumberland\t292307\t1/27/2021\t10993\t151\t368\n",
      " 20\n",
      "2\tYork\t204316\t1/27/2021\t8259\t97\t280\n",
      " 14\n",
      "3\tPenobscot\t151774\t1/27/2021\t3332\t58\t164\n",
      " 19\n",
      "4\tKennebec\t121753\t1/27/2021\t3022\t42\t106\n",
      " 18\n",
      "5\tAndroscoggin\t107602\t1/27/2021\t4208\t52\t139\n",
      " 22\n",
      "6\tAroostook\t67809\t1/27/2021\t1115\t35\t56\n",
      " 18\n",
      "7\tOxford\t57550\t1/27/2021\t1863\t34\t53\n",
      " 15\n",
      "8\tHancock\t54601\t1/27/2021\t766\t30\t37\n",
      " 16\n",
      "9\tSomerset\t50520\t1/27/2021\t1066\t25\t51\n",
      " 17\n",
      "10\tKnox\t39759\t1/27/2021\t572\t4\t18\n",
      " 14\n",
      "11\tWaldo\t39539\t1/27/2021\t505\t18\t23\n",
      " 15\n",
      "12\tSagadahoc\t35452\t1/27/2021\t753\t1\t16\n",
      " 19\n",
      "13\tLincoln\t34201\t1/27/2021\t462\t2\t15\n",
      " 17\n",
      "14\tWashington\t31491\t1/27/2021\t603\t9\t22\n",
      " 20\n",
      "15\tFranklin\t29982\t1/27/2021\t740\t8\t16\n",
      " 18\n",
      "16\tPiscataquis\t16836\t1/27/2021\t194\t1\t11\n",
      " 21\n"
     ]
    }
   ],
   "source": [
    " with open(r\"C:\\Courses\\DSE Practicum\\Data\\MECovid.txt\") as file:\n",
    "        header=file.readline()\n",
    "        for line in file:\n",
    "            indx =line.index(\"1/27/2021\")\n",
    "            print (line, indx)\n",
    "             "
   ]
  },
  {
   "cell_type": "markdown",
   "metadata": {},
   "source": [
    "### String strip\n",
    "\n",
    "**str.lstrip([chars])**\n",
    "\n",
    "Returns a copy of the string with leading characters removed.\n",
    "\n",
    "The chars argument is a string specifying the set of characters to be removed.\n",
    "\n",
    "If omitted or None, the chars argument defaults to removing whitespace\n",
    "\n",
    "**str.rstrip([chars])**\n",
    "\n",
    "Returns a copy of the string with trailing characters removed.\n"
   ]
  },
  {
   "cell_type": "code",
   "execution_count": 61,
   "metadata": {},
   "outputs": [
    {
     "name": "stdout",
     "output_type": "stream",
     "text": [
      "Cumberland\n",
      "Cumberland\n",
      "York\n",
      "York\n",
      "Penobscot\n",
      "Penobscot\n",
      "Kennebec\n",
      "Kennebec\n",
      "Androscoggin\n",
      "ndroscoggin\n",
      "Aroostook\n",
      "roostook\n",
      "Oxford\n",
      "Oxford\n",
      "Hancock\n",
      "Hancock\n",
      "Somerset\n",
      "Somerset\n",
      "Knox\n",
      "Knox\n",
      "Waldo\n",
      "Waldo\n",
      "Sagadahoc\n",
      "Sagadahoc\n",
      "Lincoln\n",
      "Lincoln\n",
      "Washington\n",
      "Washington\n",
      "Franklin\n",
      "Franklin\n",
      "Piscataquis\n",
      "Piscataquis\n"
     ]
    }
   ],
   "source": [
    "with open(r\"C:\\Courses\\DSE Practicum\\Data\\MECovid.txt\") as file:\n",
    "        header=file.readline()\n",
    "        for line in file:\n",
    "            linesegment =line.split()\n",
    "            print(linesegment[1])\n",
    "            name=linesegment[1].strip('A')\n",
    "            print(name)\n",
    "            \n",
    "        "
   ]
  },
  {
   "cell_type": "markdown",
   "metadata": {},
   "source": [
    "### Using csv reader\n",
    "\n",
    "csv is a module for working with files. \n",
    "\n",
    "The csv module implements classes to read and write tabular data in CSV format.\n",
    "\n",
    "The csv module has reader and writer objects for reading and writing sequences.\n",
    "\n",
    "One can also read and write data in dictionary form using the DictReader and DictWriter classes.\n",
    "\n",
    "csv.reader return a reader object which will iterate over lines in the given csvfile. csvfile can be any object which supports the iterator protocol and returns a string each time its __next__() method is called.\n",
    "\n",
    "Each row read from the csv file is returned as a list of strings.\n",
    "\n",
    "csv.reader(csvfile, dialect='excel', **optional_parameters)"
   ]
  },
  {
   "cell_type": "code",
   "execution_count": 5,
   "metadata": {},
   "outputs": [],
   "source": [
    "import csv"
   ]
  },
  {
   "cell_type": "code",
   "execution_count": 3,
   "metadata": {},
   "outputs": [
    {
     "name": "stdout",
     "output_type": "stream",
     "text": [
      "['No', 'County', 'Population', 'DATA_AS_OF_DT', 'cases', 'deaths', 'hospitalizations']\n",
      "['1', 'Cumberland', '292307', '1/27/2021', '10993', '151', '368']\n",
      "['2', 'York', '204316', '1/27/2021', '8259', '97', '280']\n",
      "['3', 'Penobscot', '151774', '1/27/2021', '3332', '58', '164']\n",
      "['4', 'Kennebec', '121753', '1/27/2021', '3022', '42', '106']\n",
      "['5', 'Androscoggin', '107602', '1/27/2021', '4208', '52', '139']\n",
      "['6', 'Aroostook', '67809', '1/27/2021', '1115', '35', '56']\n",
      "['7', 'Oxford', '57550', '1/27/2021', '1863', '34', '53']\n",
      "['8', 'Hancock', '54601', '1/27/2021', '766', '30', '37']\n",
      "['9', 'Somerset', '50520', '1/27/2021', '1066', '25', '51']\n",
      "['10', 'Knox', '39759', '1/27/2021', '572', '4', '18']\n",
      "['11', 'Waldo', '39539', '1/27/2021', '505', '18', '23']\n",
      "['12', 'Sagadahoc', '35452', '1/27/2021', '753', '1', '16']\n",
      "['13', 'Lincoln', '34201', '1/27/2021', '462', '2', '15']\n",
      "['14', 'Washington', '31491', '1/27/2021', '603', '9', '22']\n",
      "['15', 'Franklin', '29982', '1/27/2021', '740', '8', '16']\n",
      "['16', 'Piscataquis', '16836', '1/27/2021', '194', '1', '11']\n"
     ]
    }
   ],
   "source": [
    "with open(r\"C:\\Courses\\DSE Practicum\\Data\\MECovid.txt\") as co:\n",
    "    co_reader = csv.reader(co, delimiter='\\t')\n",
    "    h=next(co_reader)\n",
    "    print (h)\n",
    "    for line in co_reader:\n",
    "        print (line)"
   ]
  },
  {
   "cell_type": "markdown",
   "metadata": {},
   "source": [
    "Lets say we want to create a dictionary of County and Covid cases. "
   ]
  },
  {
   "cell_type": "markdown",
   "metadata": {},
   "source": [
    "We might first want ot get the index of the fields of interest"
   ]
  },
  {
   "cell_type": "code",
   "execution_count": 6,
   "metadata": {},
   "outputs": [
    {
     "name": "stdout",
     "output_type": "stream",
     "text": [
      "4\n"
     ]
    }
   ],
   "source": [
    "countypopdict={}\n",
    "with open(r\"C:\\Courses\\DSE Practicum\\Data\\MECovid.txt\") as co:\n",
    "    co_reader = csv.reader(co, delimiter='\\t')\n",
    "    header=next(co_reader) # read the file header\n",
    "    print(header.index('cases')) # get the index for cases\n",
    "    \n",
    "        "
   ]
  },
  {
   "cell_type": "code",
   "execution_count": 1,
   "metadata": {},
   "outputs": [
    {
     "ename": "NameError",
     "evalue": "name 'countydict' is not defined",
     "output_type": "error",
     "traceback": [
      "\u001b[0;31m---------------------------------------------------------------------------\u001b[0m",
      "\u001b[0;31mNameError\u001b[0m                                 Traceback (most recent call last)",
      "\u001b[0;32m<ipython-input-1-4afae277c48d>\u001b[0m in \u001b[0;36m<module>\u001b[0;34m\u001b[0m\n\u001b[0;32m----> 1\u001b[0;31m \u001b[0mkeys\u001b[0m \u001b[0;34m=\u001b[0m \u001b[0mcountydict\u001b[0m\u001b[0;34m.\u001b[0m\u001b[0mkeys\u001b[0m\u001b[0;34m(\u001b[0m\u001b[0;34m)\u001b[0m\u001b[0;34m\u001b[0m\u001b[0;34m\u001b[0m\u001b[0m\n\u001b[0m\u001b[1;32m      2\u001b[0m \u001b[0mkeys\u001b[0m\u001b[0;34m\u001b[0m\u001b[0;34m\u001b[0m\u001b[0m\n",
      "\u001b[0;31mNameError\u001b[0m: name 'countydict' is not defined"
     ]
    }
   ],
   "source": [
    "keys = countydict.keys()\n",
    "keys"
   ]
  },
  {
   "cell_type": "code",
   "execution_count": null,
   "metadata": {},
   "outputs": [],
   "source": [
    "values = countydict.values()\n",
    "values"
   ]
  },
  {
   "cell_type": "markdown",
   "metadata": {},
   "source": [
    "How to reverse dictionary"
   ]
  },
  {
   "cell_type": "code",
   "execution_count": 22,
   "metadata": {},
   "outputs": [
    {
     "data": {
      "text/plain": [
       "{'Piscataquis': 194,\n",
       " 'Franklin': 740,\n",
       " 'Washington': 603,\n",
       " 'Lincoln': 462,\n",
       " 'Sagadahoc': 753,\n",
       " 'Waldo': 505,\n",
       " 'Knox': 572,\n",
       " 'Somerset': 1066,\n",
       " 'Hancock': 766,\n",
       " 'Oxford': 1863,\n",
       " 'Aroostook': 1115,\n",
       " 'Androscoggin': 4208,\n",
       " 'Kennebec': 3022,\n",
       " 'Penobscot': 3332,\n",
       " 'York': 8259,\n",
       " 'Cumberland': 10993}"
      ]
     },
     "execution_count": 22,
     "metadata": {},
     "output_type": "execute_result"
    }
   ],
   "source": [
    "res = dict(reversed(list(countydict.items())))\n",
    "res"
   ]
  },
  {
   "cell_type": "code",
   "execution_count": 23,
   "metadata": {},
   "outputs": [],
   "source": [
    "keys = res.keys()\n",
    "values = res.values()"
   ]
  },
  {
   "cell_type": "markdown",
   "metadata": {},
   "source": [
    "Now we can plot the data"
   ]
  },
  {
   "cell_type": "code",
   "execution_count": 11,
   "metadata": {},
   "outputs": [],
   "source": [
    "import matplotlib.pyplot as plt"
   ]
  },
  {
   "cell_type": "code",
   "execution_count": 13,
   "metadata": {},
   "outputs": [
    {
     "data": {
      "text/plain": [
       "<BarContainer object of 16 artists>"
      ]
     },
     "execution_count": 13,
     "metadata": {},
     "output_type": "execute_result"
    },
    {
     "data": {
      "image/png": "[encoded data removed]",
      "text/plain": [
       "<Figure size 432x288 with 1 Axes>"
      ]
     },
     "metadata": {
      "needs_background": "light"
     },
     "output_type": "display_data"
    }
   ],
   "source": [
    "plt.bar(keys, values)"
   ]
  },
  {
   "cell_type": "code",
   "execution_count": 25,
   "metadata": {},
   "outputs": [
    {
     "data": {
      "image/png": "[encoded data removed]",
      "text/plain": [
       "<Figure size 432x288 with 1 Axes>"
      ]
     },
     "metadata": {},
     "output_type": "display_data"
    }
   ],
   "source": [
    "%matplotlib inline\n",
    "plt.style.use('ggplot')\n",
    "\n",
    "\n",
    "x_pos = [i for i, _ in enumerate(keys)]\n",
    "\n",
    "plt.bar(x_pos, values, color='orange')\n",
    "plt.xlabel(\"County\")\n",
    "plt.ylabel(\"Cases\")\n",
    "plt.title(\"Maine Covid Cases by County\")\n",
    "\n",
    "plt.xticks(x_pos, keys, rotation =90)\n",
    "\n",
    "plt.show()"
   ]
  },
  {
   "cell_type": "code",
   "execution_count": 28,
   "metadata": {},
   "outputs": [
    {
     "data": {
      "image/png": "[encoded data removed]",
      "text/plain": [
       "<Figure size 432x288 with 1 Axes>"
      ]
     },
     "metadata": {},
     "output_type": "display_data"
    }
   ],
   "source": [
    "fig = plt.figure()\n",
    "ax = fig.add_axes([0,0,1,1])\n",
    "Counties = list(keys)\n",
    "Cases = list(values)\n",
    "ax.bar(Counties,values, color='orange')\n",
    "x_pos = [i for i, _ in enumerate(keys)]\n",
    "plt.xticks(x_pos, keys, rotation =90)\n",
    "plt.show()"
   ]
  },
  {
   "cell_type": "code",
   "execution_count": 6,
   "metadata": {},
   "outputs": [
    {
     "name": "stdout",
     "output_type": "stream",
     "text": [
      "{'Cumberland': [10993, 151], 'York': [8259, 97], 'Penobscot': [3332, 58], 'Kennebec': [3022, 42], 'Androscoggin': [4208, 52], 'Aroostook': [1115, 35], 'Oxford': [1863, 34], 'Hancock': [766, 30], 'Somerset': [1066, 25], 'Knox': [572, 4], 'Waldo': [505, 18], 'Sagadahoc': [753, 1], 'Lincoln': [462, 2], 'Washington': [603, 9], 'Franklin': [740, 8], 'Piscataquis': [194, 1]}\n"
     ]
    }
   ],
   "source": [
    "countydict={}\n",
    "with open(r\"C:\\Courses\\DSE Practicum\\Data\\MECovid.txt\") as co:\n",
    "    co_reader = csv.reader(co, delimiter='\\t')\n",
    "    h=next(co_reader)\n",
    "    caseindex=(h.index('cases'))\n",
    "    deathindex=(h.index('deaths'))\n",
    "    for line in co_reader:\n",
    "        county=line[1]\n",
    "        cases=int(line[caseindex])\n",
    "        deaths=int(line[deathindex])\n",
    "        countydict[county]=[cases, deaths]\n",
    "\n",
    "print(countydict)"
   ]
  }
 ],
 "metadata": {
  "kernelspec": {
   "display_name": "Python 3",
   "language": "python",
   "name": "python3"
  },
  "language_info": {
   "codemirror_mode": {
    "name": "ipython",
    "version": 3
   },
   "file_extension": ".py",
   "mimetype": "text/x-python",
   "name": "python",
   "nbconvert_exporter": "python",
   "pygments_lexer": "ipython3",
   "version": "3.8.5"
  }
 },
 "nbformat": 4,
 "nbformat_minor": 2
}
