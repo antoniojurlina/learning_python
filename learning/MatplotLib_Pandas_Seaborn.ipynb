{
 "cells": [
  {
   "cell_type": "markdown",
   "metadata": {},
   "source": [
    "### Matplotlib, Pandas, and Seaborn"
   ]
  },
  {
   "cell_type": "markdown",
   "metadata": {},
   "source": [
    "Pandas has built in plotting integration with matplotlib that continues to expand.\n",
    "\n",
    "Pandas provides plotting functionality on Series and DataFrame as a wrapper around the matplotlib libraries plot() method.\n",
    "\n",
    "Seaborn is another package built on Matplotlib\n",
    "\n",
    "The combination of these gives you several options for visualization."
   ]
  },
  {
   "cell_type": "code",
   "execution_count": null,
   "metadata": {},
   "outputs": [],
   "source": [
    "import pandas as pd\n",
    "import numpy as np\n",
    "import matplotlib.pyplot as plt\n",
    "import seaborn as sns"
   ]
  },
  {
   "cell_type": "code",
   "execution_count": null,
   "metadata": {},
   "outputs": [],
   "source": [
    " %matplotlib inline"
   ]
  },
  {
   "cell_type": "code",
   "execution_count": null,
   "metadata": {},
   "outputs": [],
   "source": [
    "# Create some data\n",
    "rng = np.random.RandomState(0)\n",
    "x = np.linspace(0, 10, 500)\n",
    "y = np.cumsum(rng.randn(500, 6), 0)"
   ]
  },
  {
   "cell_type": "code",
   "execution_count": null,
   "metadata": {},
   "outputs": [],
   "source": [
    "# Plot the data with Matplotlib defaults\n",
    "plt.plot(x, y)\n",
    "plt.legend('ABCDEF', ncol=2, loc='upper left');"
   ]
  },
  {
   "cell_type": "markdown",
   "metadata": {},
   "source": [
    "Matplotlib styles:\n",
    "\n",
    "matplotlib offers a range of pre-configured plotting styles. These include: 'bmh', 'dark_background', 'ggplot', 'fivethirtyeight', 'grayscale']\n",
    "bmh > Bayesian Methods for Hackers\n",
    "\n",
    "The style ican be set by calling matplotlib.style.use(my_plot_style) before creating your plot. "
   ]
  },
  {
   "cell_type": "code",
   "execution_count": null,
   "metadata": {},
   "outputs": [],
   "source": [
    "print(plt.style.available)"
   ]
  },
  {
   "cell_type": "code",
   "execution_count": null,
   "metadata": {},
   "outputs": [],
   "source": [
    "from matplotlib import style\n",
    "style.use('dark_background')"
   ]
  },
  {
   "cell_type": "markdown",
   "metadata": {},
   "source": [
    "### Seaborn Styling"
   ]
  },
  {
   "cell_type": "markdown",
   "metadata": {},
   "source": [
    "There are five preset seaborn themes that can be applied to matplotlib plots or pandas plots: darkgrid, whitegrid, dark, white, and ticks.\n",
    "\n",
    "The default theme is darkgrid. "
   ]
  },
  {
   "cell_type": "code",
   "execution_count": null,
   "metadata": {},
   "outputs": [],
   "source": [
    "sns.set()"
   ]
  },
  {
   "cell_type": "code",
   "execution_count": null,
   "metadata": {},
   "outputs": [],
   "source": [
    "# same plotting code as above\n",
    "plt.plot(x, y)\n",
    "plt.legend('ABCDEF', ncol=2, loc='upper left');"
   ]
  },
  {
   "cell_type": "markdown",
   "metadata": {},
   "source": [
    "### pandas.DataFrame.plot"
   ]
  },
  {
   "cell_type": "markdown",
   "metadata": {},
   "source": [
    "Dataframe or series .plot() is a wrapper for pyplot.plot(), and generates a plot identical to the a plot with Matplotlib.\n",
    "\n",
    "\n",
    "With a DataFrame, by default pandas creates one line plot for each of the numeric column."
   ]
  },
  {
   "cell_type": "code",
   "execution_count": null,
   "metadata": {},
   "outputs": [],
   "source": [
    "ts = pd.Series(np.random.randn(1000), index=pd.date_range(\"1/1/2000\", periods=1000))"
   ]
  },
  {
   "cell_type": "code",
   "execution_count": null,
   "metadata": {},
   "outputs": [],
   "source": [
    "df = pd.DataFrame(np.random.randn(1000, 4), index=ts.index, columns=list(\"ABCD\"))"
   ]
  },
  {
   "cell_type": "code",
   "execution_count": null,
   "metadata": {},
   "outputs": [],
   "source": [
    "df.head()"
   ]
  },
  {
   "cell_type": "code",
   "execution_count": null,
   "metadata": {},
   "outputs": [],
   "source": [
    "sns.set_style(\"whitegrid\")\n",
    "df = df.cumsum()\n",
    "df.plot();\n"
   ]
  },
  {
   "cell_type": "markdown",
   "metadata": {},
   "source": [
    "\n",
    "Data frame plotting methods allow for a handful of plot styles other than the default line plot. These methods can be provided as the kind keyword argument to plot(), and include:\n",
    "\n",
    "- ‘line’ : line plot (default)\n",
    "- ‘bar’ : vertical bar plot\n",
    "- ‘barh’ : horizontal bar plot\n",
    "- ‘hist’ : histogram\n",
    "- ‘box’ : boxplot\n",
    "- ‘kde’ : Kernel Density Estimation plot\n",
    "- ‘density’ : same as ‘kde’\n",
    "- ‘area’ : area plot\n",
    "- ‘pie’ : pie plot\n",
    "- ‘scatter’ : scatter plot\n",
    "- ‘hexbin’ : hexbin plot\n",
    "\n",
    "Each plot kind has a corresponding method on the DataFrame.plot accessor: df.plot(kind='line') is equivalent to df.plot.line().\n"
   ]
  },
  {
   "cell_type": "markdown",
   "metadata": {},
   "source": [
    "To specify one column to plot use a selection method.\n",
    "Hence, the plot() method works on both Series and DataFrame."
   ]
  },
  {
   "cell_type": "code",
   "execution_count": null,
   "metadata": {},
   "outputs": [],
   "source": [
    "df[\"A\"].plot();\n",
    "# whenever matplotlib is executed, \n",
    "#the output includes a text string that can be very visually unappealing. \n",
    "#Semicolon block this output"
   ]
  },
  {
   "cell_type": "code",
   "execution_count": null,
   "metadata": {},
   "outputs": [],
   "source": [
    "plt.style.use('default')"
   ]
  },
  {
   "cell_type": "markdown",
   "metadata": {},
   "source": [
    "### Bar plots in pandas\n",
    "\n",
    "By default, the index of the DataFrame or Series is placed on the x-axis and the values in the selected column are rendered as bars - the y label is left empty.\n",
    "\n",
    "\n",
    "Every Pandas bar chart works this way; additional columns become a new sets of bars on the chart.\n",
    "\n",
    "\n",
    "You can set the xlabel and ylabel arguments to give the plot custom labels for x and y axis. "
   ]
  },
  {
   "cell_type": "code",
   "execution_count": null,
   "metadata": {},
   "outputs": [],
   "source": [
    "sns.set_style(\"whitegrid\")\n",
    "plotdata = pd.DataFrame({\n",
    "    \"cabbages_2020\":[10, 10, 42, 17, 37]\n",
    "    }, \n",
    "    index=[\"Field1\", \"Field2\", \"Field3\", \"Field4\", \"Field5\"]\n",
    ")\n",
    "plotdata.plot(kind=\"bar\", title=\"Cabbage Production\")\n"
   ]
  },
  {
   "cell_type": "markdown",
   "metadata": {},
   "source": [
    "With Pandas plot(), labelling of the axis is achieved using the Matplotlib syntax on the “plt” object imported from pyplot. The key functions are:\n",
    "\n",
    "“xlabel” to add an x-axis label\n",
    "\n",
    "“ylabel” to add a y-axis label\n",
    "\n",
    "“title” to add a plot title"
   ]
  },
  {
   "cell_type": "code",
   "execution_count": null,
   "metadata": {},
   "outputs": [],
   "source": [
    "plotdata['cabbages_2020'].plot(kind=\"bar\")\n",
    "plt.title(\"Cabbage Production\")\n",
    "plt.xlabel(\"Field Plots\")\n",
    "plt.ylabel(\"Number of Cabbages Produced\")"
   ]
  },
  {
   "cell_type": "markdown",
   "metadata": {},
   "source": [
    "Using df.plot, returns an ax element."
   ]
  },
  {
   "cell_type": "code",
   "execution_count": null,
   "metadata": {},
   "outputs": [],
   "source": [
    "a=plotdata.plot()"
   ]
  },
  {
   "cell_type": "code",
   "execution_count": null,
   "metadata": {},
   "outputs": [],
   "source": [
    "type(a)"
   ]
  },
  {
   "cell_type": "markdown",
   "metadata": {},
   "source": [
    "You can also add X and Y labels using the ax.set_xlabel or ax.set_ylabel"
   ]
  },
  {
   "cell_type": "code",
   "execution_count": null,
   "metadata": {},
   "outputs": [],
   "source": [
    "a=plotdata['cabbages_2020'].plot(kind=\"bar\")\n",
    "a.set_xlabel(\"Field Plots\")\n",
    "a.set_ylabel('Production')"
   ]
  },
  {
   "cell_type": "code",
   "execution_count": null,
   "metadata": {},
   "outputs": [],
   "source": [
    "#plotdata.reset_index(inplace=True) # resetting index changes x tick labels\n",
    "plotdata.set_index(\"index\",drop=True,inplace=True)"
   ]
  },
  {
   "cell_type": "code",
   "execution_count": null,
   "metadata": {},
   "outputs": [],
   "source": [
    "plotdata['cabbages_2020'].plot(kind=\"bar\")"
   ]
  },
  {
   "cell_type": "code",
   "execution_count": null,
   "metadata": {},
   "outputs": [],
   "source": [
    "plotdata['cabbages_2020'].plot(kind=\"bar\")\n",
    "plt.title(\"Cabbage Production\")\n",
    "plt.xlabel(\"Fields Plots\")\n",
    "plt.ylabel(\"Number of Cabbages Produced\")\n",
    "plt.xticks(rotation=30, horizontalalignment=\"center\")"
   ]
  },
  {
   "cell_type": "markdown",
   "metadata": {},
   "source": [
    "Horizontal bar charts are created in Pandas by changing the “kind” parameter to “barh”."
   ]
  },
  {
   "cell_type": "code",
   "execution_count": null,
   "metadata": {},
   "outputs": [],
   "source": [
    "plotdata['cabbages_2020'].plot(kind=\"barh\")\n",
    "plt.title(\"Cabbage Production\")\n",
    "plt.xlabel(\"Number of Cabbages Produced\") # need to change x and y labels\n",
    "plt.ylabel(\"Fields Plots\")\n"
   ]
  },
  {
   "cell_type": "markdown",
   "metadata": {},
   "source": [
    "#### Bar chart applied to multiple columns.\n",
    "\n",
    "With more than one column specified, Pandas creates, by default, an unstacked bar chart with each column forming one set of columns, and the DataFrame index as the x-axis.\n",
    "\n",
    "Pandas puts the index on the x-axis, and renders each column as a separate series or set of bars, with a (usually) neatly positioned legend."
   ]
  },
  {
   "cell_type": "code",
   "execution_count": null,
   "metadata": {},
   "outputs": [],
   "source": [
    "plotdata = pd.DataFrame({\n",
    "    \"cabbages_2018\":[9, 6, 10, 26, 36],\n",
    "    \"cabbages_2019\":[19, 8, 30, 21, 38],\n",
    "    \"cabbages_2020\":[10, 10, 42, 17, 37]\n",
    "    }, \n",
    "    index=[\"Field1\", \"Field2\", \"Field3\", \"Field4\", \"Field5\"]\n",
    ")"
   ]
  },
  {
   "cell_type": "code",
   "execution_count": null,
   "metadata": {},
   "outputs": [],
   "source": [
    "plotdata"
   ]
  },
  {
   "cell_type": "code",
   "execution_count": null,
   "metadata": {},
   "outputs": [],
   "source": [
    "plotdata.plot(kind=\"bar\")\n",
    "plt.title(\"Cabbage Production\")\n",
    "plt.xlabel(\"Field Plots\")\n",
    "plt.ylabel(\"Number of Cabbages Produced\")\n",
    "plt.show()"
   ]
  },
  {
   "cell_type": "markdown",
   "metadata": {},
   "source": [
    " A \"stacked\" barchart is created by adding the \"stacked\" arguement. \n",
    " \n",
    "Data are arranged with the index on the x-axis, and each column becoming a different “series” on the plot, each stacked on top of one another at each x-axis tick mark."
   ]
  },
  {
   "cell_type": "code",
   "execution_count": null,
   "metadata": {},
   "outputs": [],
   "source": [
    "plotdata.plot(kind=\"bar\", stacked=True)\n",
    "plt.title(\"Cabbage production\")\n",
    "plt.xlabel(\"Field Plots\")\n",
    "plt.ylabel(\"Number of Cabbages Produced\")\n",
    "plt.show()"
   ]
  },
  {
   "cell_type": "markdown",
   "metadata": {},
   "source": [
    "The order of appearance in the plot is controlled by the order of the columns in the data set. Re-ordering can be achieved by selecting the columns in the order that you want. \n",
    "\n",
    "Matplotlib default coloromap has been updated. \n",
    "The default can be easily changed by specifing a different colormap"
   ]
  },
  {
   "cell_type": "code",
   "execution_count": null,
   "metadata": {},
   "outputs": [],
   "source": [
    "plotdata[[\"cabbages_2020\",\"cabbages_2019\",\"cabbages_2018\"]].plot(kind=\"bar\", stacked=True,colormap=\"Set2\")\n",
    "plt.title(\"Cabbage production\")\n",
    "plt.xlabel(\"Field Plots\")\n",
    "plt.ylabel(\"Number of Cabbages Produced\")\n",
    "plt.show()"
   ]
  },
  {
   "cell_type": "markdown",
   "metadata": {},
   "source": [
    "Use Pandas apply function to convert into “percentage of total” measurements."
   ]
  },
  {
   "cell_type": "code",
   "execution_count": null,
   "metadata": {},
   "outputs": [],
   "source": [
    "stacked_data = plotdata.apply(lambda x: x*100/sum(x), axis=1)\n",
    "stacked_data.plot(kind=\"bar\", stacked=True, legend=False, colormap='Dark2')\n",
    "plt.title(\"Cabbage production\")\n",
    "plt.xlabel(\"Field Plots\")\n",
    "plt.show()"
   ]
  },
  {
   "cell_type": "markdown",
   "metadata": {},
   "source": [
    "The legend position and appearance can be achieved by adding the .legend() function to your plotting command. The controls are loc to define the legend location, ncol the number of columns, and title for a name.\n",
    "\n",
    "\n",
    "plt.legend(loc=' ',bbox_to_anchor=())\n",
    "This function is used to specify the location and the exact coordinates to display the legend in the figure.\n",
    "\n",
    "loc – specifies a general location of the legend - 'upper center'\n",
    "\n",
    "bbox_to_anchor – states the exact coordinates of the legend."
   ]
  },
  {
   "cell_type": "code",
   "execution_count": null,
   "metadata": {},
   "outputs": [],
   "source": [
    "\n",
    "stacked_data = plotdata.apply(lambda x: x*100/sum(x), axis=1)\n",
    "stacked_data.plot(kind=\"bar\", stacked=True)\n",
    "plt.legend(loc= 'upper center', ncol=3, title=\"Year of Production\",  bbox_to_anchor=(.5, 1.25))"
   ]
  },
  {
   "cell_type": "code",
   "execution_count": null,
   "metadata": {},
   "outputs": [],
   "source": [
    "stacked_data = plotdata.apply(lambda x: x*100/sum(x), axis=1)\n",
    "stacked_data.plot(kind=\"bar\", stacked=True)\n",
    "plt.legend(loc='center right')#, bbox_to_anchor=(1.0, 0.5),title=\"Year of Production\")"
   ]
  },
  {
   "cell_type": "code",
   "execution_count": null,
   "metadata": {},
   "outputs": [],
   "source": [
    "stacked_data = plotdata.apply(lambda x: x*100/sum(x), axis=1)\n",
    "stacked_data.plot(kind=\"bar\", stacked=True)\n",
    "plt.legend(bbox_to_anchor=(1.0, 1.02))\n",
    "plt.show()"
   ]
  },
  {
   "cell_type": "markdown",
   "metadata": {},
   "source": [
    "Transposing the data\n",
    "\n",
    "Transpose converts column labels to the index and thus the x axis labels. "
   ]
  },
  {
   "cell_type": "code",
   "execution_count": null,
   "metadata": {},
   "outputs": [],
   "source": [
    "plotdata.transpose().apply(lambda x: x*100/sum(x), axis=1).plot(kind=\"bar\", stacked=True, colormap='Dark2')\n",
    "plt.legend(bbox_to_anchor=(1.0, 0.5))\n"
   ]
  },
  {
   "cell_type": "code",
   "execution_count": null,
   "metadata": {},
   "outputs": [],
   "source": [
    "plotdata.reset_index().plot(\n",
    "    x=\"index\", y=[\"cabbages_2019\", \"cabbages_2020\"], kind=\"bar\"\n",
    ")"
   ]
  },
  {
   "cell_type": "markdown",
   "metadata": {},
   "source": [
    "### Pandas scatter plot\n",
    "use kind= 'scatter'"
   ]
  },
  {
   "cell_type": "code",
   "execution_count": null,
   "metadata": {},
   "outputs": [],
   "source": [
    "# create some correlated data\n",
    "num_samples = 200\n",
    "\n",
    "# The desired mean values of the sample.\n",
    "mu = np.array([5.0, 0.0, 10.0])\n",
    "\n",
    "# The desired covariance matrix.\n",
    "r = np.array([\n",
    "        [  3.40, -2.75, -2.00],\n",
    "        [ -2.75,  5.50,  1.50],\n",
    "        [ -2.00,  1.50,  1.25]\n",
    "    ])\n",
    "\n",
    "# Generate the random samples.\n",
    "df2=pd.DataFrame(np.random.multivariate_normal(mu, r, size=num_samples),\n",
    "    columns=[\"A\", \"B\", \"C\"])\n"
   ]
  },
  {
   "cell_type": "code",
   "execution_count": null,
   "metadata": {},
   "outputs": [],
   "source": [
    "df2.head()"
   ]
  },
  {
   "cell_type": "code",
   "execution_count": null,
   "metadata": {},
   "outputs": [],
   "source": [
    "df2.plot(kind='scatter',x='A', y='B')"
   ]
  },
  {
   "cell_type": "markdown",
   "metadata": {},
   "source": [
    "### Pandas boxplots"
   ]
  },
  {
   "cell_type": "code",
   "execution_count": null,
   "metadata": {},
   "outputs": [],
   "source": [
    "ts = pd.Series(np.random.randn(1000), index=pd.date_range(\"1/1/2000\", periods=1000))\n",
    "df = pd.DataFrame(np.random.randn(1000, 4), index=ts.index, columns=list(\"ABCD\"))"
   ]
  },
  {
   "cell_type": "code",
   "execution_count": null,
   "metadata": {},
   "outputs": [],
   "source": [
    "style.use('fivethirtyeight')"
   ]
  },
  {
   "cell_type": "code",
   "execution_count": null,
   "metadata": {},
   "outputs": [],
   "source": [
    "sns.set_style(\"white\")\n",
    "df.plot(kind='box')\n"
   ]
  },
  {
   "cell_type": "code",
   "execution_count": null,
   "metadata": {},
   "outputs": [],
   "source": [
    "df = pd.DataFrame(np.random.rand(10, 5), columns=[\"A\", \"B\", \"C\", \"D\", \"E\"])\n",
    "\n",
    "df.plot.box();"
   ]
  },
  {
   "cell_type": "markdown",
   "metadata": {},
   "source": [
    "### Pandas Histogram"
   ]
  },
  {
   "cell_type": "code",
   "execution_count": null,
   "metadata": {},
   "outputs": [],
   "source": [
    "df4 = pd.DataFrame(\n",
    "        {\n",
    "            \"a\": np.random.randn(1000) + 1,\n",
    "            \"b\": np.random.randn(1000),\n",
    "            \"c\": np.random.randn(1000) - 1,\n",
    "        },\n",
    "        columns=[\"a\", \"b\", \"c\"],)\n",
    "    \n",
    "\n",
    "plt.figure();\n",
    "\n",
    "style.use('fivethirtyeight')\n",
    "df4['a'].plot.hist(alpha=0.5);"
   ]
  },
  {
   "cell_type": "code",
   "execution_count": null,
   "metadata": {},
   "outputs": [],
   "source": [
    "sns.set_style(\"whitegrid\")\n",
    "df4.hist()"
   ]
  },
  {
   "cell_type": "markdown",
   "metadata": {},
   "source": [
    "DataFrame.hist() plots the histograms of the columns on multiple subplots:"
   ]
  },
  {
   "cell_type": "code",
   "execution_count": null,
   "metadata": {},
   "outputs": [],
   "source": [
    "plt.figure();\n",
    "\n",
    "df.diff().hist(color=\"r\", alpha=0.8, bins=30);"
   ]
  },
  {
   "cell_type": "markdown",
   "metadata": {},
   "source": [
    "### Seaborn Plots\n",
    "\n",
    "Seaborn provides an API on top of Matplotlib that provides:\n",
    "- reasonable choices for plot style and color defaults, \n",
    "- defines simple high-level functions for common statistical plot types, \n",
    "- integrates with the functionality provided by Pandas DataFrames."
   ]
  },
  {
   "attachments": {
    "image.png": {
     "image/png": "[encoded data removed]"
    }
   },
   "cell_type": "markdown",
   "metadata": {},
   "source": [
    "![image.png](attachment:image.png)"
   ]
  },
  {
   "cell_type": "markdown",
   "metadata": {},
   "source": [
    "In addition to the different modules, seaborn has two types of functions: axes-level functions and figure-level functions.\n",
    "\n",
    "axes-level functions take an explicit ax argument and return an Axes object, \n",
    "Figure-level functions create plots that potentially include Axes\n",
    "\n",
    "Any customization made is on the axes object for axes-level functions and the figure object for figure-level functions. "
   ]
  },
  {
   "cell_type": "markdown",
   "metadata": {},
   "source": [
    "#### Facet Grids:\n",
    "\n",
    "Facet Grids allow the convenient management of subplots. \n",
    "\n",
    "This class maps a dataset onto multiple axes arrayed in a grid of rows and columns that correspond to levels of variables in the dataset. The plots it produces are often called “lattice”, “trellis”, or “small-multiple” graphics."
   ]
  },
  {
   "cell_type": "markdown",
   "metadata": {},
   "source": [
    "Faceting is the act of breaking data variables up across multiple subplots, and combining those subplots into a single figure. So instead of one bar chart, we might have four arranged together in a grid."
   ]
  },
  {
   "cell_type": "markdown",
   "metadata": {},
   "source": [
    "\n",
    "It can also represent levels of a third variable with the hue parameter, which plots different subsets of data in different colors. This uses color to resolve elements on a third dimension."
   ]
  },
  {
   "cell_type": "code",
   "execution_count": null,
   "metadata": {},
   "outputs": [],
   "source": [
    "\n",
    "sns.FacetGrid(tips)"
   ]
  },
  {
   "cell_type": "markdown",
   "metadata": {},
   "source": [
    "#### replot: Figure-level interface for drawing relational plots onto a FacetGrid\n"
   ]
  },
  {
   "cell_type": "markdown",
   "metadata": {},
   "source": [
    "Seaborn’s relplot function returns a FacetGrid object which is a figure-level object. \n",
    "\n",
    "scatterplot is the default"
   ]
  },
  {
   "cell_type": "code",
   "execution_count": null,
   "metadata": {},
   "outputs": [],
   "source": [
    "tips = sns.load_dataset(\"tips\")"
   ]
  },
  {
   "cell_type": "code",
   "execution_count": null,
   "metadata": {},
   "outputs": [],
   "source": [
    "tips.head()"
   ]
  },
  {
   "cell_type": "code",
   "execution_count": null,
   "metadata": {},
   "outputs": [],
   "source": [
    "sns.set_style(\"whitegrid\")\n",
    "sns.relplot(data=tips, x=\"total_bill\", y=\"tip\", hue=\"day\");"
   ]
  },
  {
   "cell_type": "markdown",
   "metadata": {},
   "source": [
    "if the hue semantic is categorical, the default palette is qualitative\n",
    "\n",
    "if the hue semantic is quantitative the default palette is quantitative\n",
    "\n",
    "In both cases, you can customize the color palette."
   ]
  },
  {
   "cell_type": "code",
   "execution_count": null,
   "metadata": {},
   "outputs": [],
   "source": [
    "splot=sns.relplot(x=\"total_bill\", y=\"tip\", hue=\"size\", data=tips)\n",
    "splot.fig.suptitle(\"Tips by size\" ,\n",
    "               fontsize = 16 , \n",
    "               fontweight = 'bold' )\n",
    "  \n",
    "splot.set_axis_labels( \"Tip\" , \"Total Bill (USD)\", fontsize= 14);\n"
   ]
  },
  {
   "cell_type": "markdown",
   "metadata": {},
   "source": [
    "#### axes-level function\n",
    "\n",
    "pass the figsize argument to the plt.subplots() function to set the figure size. The function plt.subplots() returns Figure and Axes objects. These objects are created ahead of time and later the plots are drawn on it. We make use of the set_title(), set_xlabel(), and set_ylabel() functions to change axis labels and set the title for a plot. We can set the size of the text with size attribute. Make sure to assign the axes-level object while creating the plot. This object is then used for setting the title and labels"
   ]
  },
  {
   "cell_type": "code",
   "execution_count": null,
   "metadata": {},
   "outputs": [],
   "source": [
    "fig, ax = plt.subplots(figsize = ( 5 , 5 ))\n",
    "  \n",
    "# Plot the scatterplot\n",
    "sns.scatterplot( ax = ax , x = \"total_bill\" , y = \"tip\" , hue='size',data = tips )\n",
    "  \n",
    "# Set label for x-axis\n",
    "ax.set_xlabel( \"Total Bill (USD)\" , size = 12 )\n",
    "  \n",
    "# Set label for y-axis\n",
    "ax.set_ylabel( \"Tips (USD)\" , size = 12 )\n",
    "  \n",
    "# Set title for plot\n",
    "ax.set_title( \"Bill vs Tips\" , size = 18)\n",
    "  \n",
    "# Display figure\n",
    "plt.show()"
   ]
  },
  {
   "cell_type": "code",
   "execution_count": null,
   "metadata": {},
   "outputs": [],
   "source": [
    "sns.relplot(x=\"total_bill\", y=\"tip\", size=\"size\", alpha=.5,data=tips);"
   ]
  },
  {
   "cell_type": "code",
   "execution_count": null,
   "metadata": {},
   "outputs": [],
   "source": [
    "# Plot scatter plot\n",
    "g = sns.relplot(data = tips , x = \"total_bill\" , \n",
    "                y = \"tip\" , col = \"time\" , \n",
    "                hue = 'size', \n",
    "                kind = \"scatter\" )\n",
    "  \n",
    "# Title for the complete figure\n",
    "g.fig.suptitle(\"Tips by time of day\" ,\n",
    "               fontsize = 'x-large' , \n",
    "               fontweight = 'bold' )\n",
    "  \n",
    "# Adjust subplots so that titles don't overlap\n",
    "g.fig.subplots_adjust( top = 0.85 )\n",
    "  \n",
    "# Set x-axis and y-axis labels\n",
    "g.set_axis_labels( \"Tip\" , \"Total Bill (USD)\",  size = 12)\n",
    "  \n",
    "# Display the figure\n",
    "plt.show()"
   ]
  },
  {
   "cell_type": "markdown",
   "metadata": {},
   "source": [
    "Assigning a col variable creates a faceted figure with multiple subplots arranged across the columns of the grid:"
   ]
  },
  {
   "cell_type": "code",
   "execution_count": null,
   "metadata": {},
   "outputs": [],
   "source": [
    "sns.relplot(data=tips, x=\"total_bill\", y=\"tip\", hue='time',col=\"time\");"
   ]
  },
  {
   "cell_type": "code",
   "execution_count": null,
   "metadata": {},
   "outputs": [],
   "source": [
    "sns.relplot(data=tips, x=\"total_bill\", y=\"tip\", hue=\"day\", col=\"time\", row=\"sex\");"
   ]
  },
  {
   "cell_type": "markdown",
   "metadata": {},
   "source": [
    "#### Count Plots\n",
    "Show the counts of observations in each categorical bin using bars"
   ]
  },
  {
   "cell_type": "code",
   "execution_count": null,
   "metadata": {},
   "outputs": [],
   "source": [
    "titanic = sns.load_dataset('titanic')"
   ]
  },
  {
   "cell_type": "code",
   "execution_count": null,
   "metadata": {},
   "outputs": [],
   "source": [
    "titanic.head()"
   ]
  },
  {
   "cell_type": "code",
   "execution_count": null,
   "metadata": {},
   "outputs": [],
   "source": [
    "ax = sns.countplot(x=\"class\", hue=\"who\", data=titanic)"
   ]
  },
  {
   "cell_type": "code",
   "execution_count": null,
   "metadata": {},
   "outputs": [],
   "source": [
    "ax = sns.countplot(y=\"class\", hue=\"who\", data=titanic)"
   ]
  },
  {
   "cell_type": "code",
   "execution_count": null,
   "metadata": {},
   "outputs": [],
   "source": [
    "\n",
    "sns.countplot(x = 'sex', hue = 'survived', data = titanic,\n",
    "            palette = 'hls',\n",
    "            order = ['male', 'female'],  \n",
    "            capsize = 0.05,             \n",
    "            saturation = 8,             \n",
    "            )\n",
    "plt.show()\n"
   ]
  },
  {
   "cell_type": "markdown",
   "metadata": {},
   "source": [
    "### Bar Plots\n",
    "\n",
    "The function is sns.barplot() takes paramaters data, x, and y and plots a barplot using data as the dataframe.\n",
    "\n",
    "x is the column of the dataframe that contains the labels for the x axis, and y is the column of the dataframe that contains the data to graph (the y axis).\n",
    "\n",
    "By default, each bin of a barplot displays the mean value of a variable. \n",
    "\n",
    "The estimator argument of the barplot() method in Seaborn can alter how the data is aggregated. \n",
    "\n",
    "The estimator argument can receive a function such as np.sum, len, np.median or other statistical function. This function can be used in combination with raw data such as a list of numbers and display in a barplot the desired statistic of this list.\n",
    "\n",
    "\n",
    "By default the barplot function includes error bars. Seaborn uses a bootstrapped confidence interval to calculate these error bars.\n",
    "\n",
    "The hue parameter can be used to create a bar plot with more than one dimension."
   ]
  },
  {
   "cell_type": "code",
   "execution_count": null,
   "metadata": {},
   "outputs": [],
   "source": [
    "sns.set(rc = {'figure.figsize' : (7, 5), \n",
    "               'axes.labelsize' : 12 })\n",
    "\n",
    "tips = sns.load_dataset('tips')\n",
    "sns.barplot(x = 'day', y = 'total_bill', hue = 'sex', data = tips,\n",
    "            palette = 'Blues', edgecolor = 'w')\n",
    "tips.groupby(['day','sex']).mean()\n",
    "\n",
    "plt.show()"
   ]
  },
  {
   "cell_type": "markdown",
   "metadata": {},
   "source": [
    "#### Faceted histograms\n"
   ]
  },
  {
   "cell_type": "code",
   "execution_count": null,
   "metadata": {},
   "outputs": [],
   "source": [
    "tips = sns.load_dataset('tips')\n",
    "tips.head()"
   ]
  },
  {
   "cell_type": "code",
   "execution_count": null,
   "metadata": {},
   "outputs": [],
   "source": [
    "sns.histplot(tips,x='tip');"
   ]
  },
  {
   "cell_type": "code",
   "execution_count": null,
   "metadata": {},
   "outputs": [],
   "source": [
    "tips['tip_pct'] = 100 * tips['tip'] / tips['total_bill']\n",
    "\n",
    "grid = sns.FacetGrid(tips, row=\"sex\", col=\"time\", margin_titles=True)\n",
    "grid.map(plt.hist, \"tip_pct\", bins=np.linspace(0, 40, 15));"
   ]
  },
  {
   "cell_type": "markdown",
   "metadata": {},
   "source": [
    "### Pair plots\n",
    "Pair plots are useful for exploring correlations between multidimensional data, when you'd like to plot all pairs of values against each other.\n",
    "\n",
    "Example using Iris dataset, which lists measurements of petals and sepals of three iris species:"
   ]
  },
  {
   "cell_type": "code",
   "execution_count": null,
   "metadata": {},
   "outputs": [],
   "source": [
    "iris = sns.load_dataset(\"iris\")\n",
    "iris.head()"
   ]
  },
  {
   "cell_type": "code",
   "execution_count": null,
   "metadata": {
    "scrolled": true
   },
   "outputs": [],
   "source": [
    "sns.pairplot(iris, hue='species', height=2.5);"
   ]
  },
  {
   "cell_type": "code",
   "execution_count": null,
   "metadata": {},
   "outputs": [],
   "source": [
    "with sns.axes_style(style='ticks'):\n",
    "    g = sns.catplot(x=\"day\", y=\"total_bill\", hue=\"sex\", data=tips, kind=\"box\")\n",
    "    g.set_axis_labels(\"Day\", \"Total Bill\");"
   ]
  },
  {
   "cell_type": "markdown",
   "metadata": {},
   "source": [
    "Cat plots\n"
   ]
  },
  {
   "cell_type": "code",
   "execution_count": null,
   "metadata": {},
   "outputs": [],
   "source": [
    "sns.catplot(x=\"class\", hue=\"who\", col=\"survived\",\n",
    "                data=titanic, kind=\"count\",\n",
    "                height=4, aspect=.7);"
   ]
  },
  {
   "cell_type": "code",
   "execution_count": null,
   "metadata": {},
   "outputs": [],
   "source": [
    "sns.histplot(titanic.age, kde=True)\n",
    "plt.show()"
   ]
  },
  {
   "cell_type": "code",
   "execution_count": null,
   "metadata": {},
   "outputs": [],
   "source": [
    "g = sns.FacetGrid(titanic, row='survived', col='class')\n",
    "g.map(sns.histplot, \"age\")\n",
    "plt.show()"
   ]
  },
  {
   "cell_type": "code",
   "execution_count": null,
   "metadata": {},
   "outputs": [],
   "source": [
    "g = sns.catplot(x=\"who\", y=\"survived\", col=\"class\",\n",
    "                data=titanic, saturation=.5,\n",
    "                kind=\"bar\", ci=None, aspect=.6)\n",
    "(g.set_axis_labels(\"\", \"Survival Rate\")\n",
    "  .set_xticklabels([\"Men\", \"Women\", \"Children\"])\n",
    "  .set_titles(\"{col_name} {col_var}\")\n",
    "  .set(ylim=(0, 1))\n",
    "  .despine(left=True))  "
   ]
  }
 ],
 "metadata": {
  "kernelspec": {
   "display_name": "Python 3",
   "language": "python",
   "name": "python3"
  },
  "language_info": {
   "codemirror_mode": {
    "name": "ipython",
    "version": 3
   },
   "file_extension": ".py",
   "mimetype": "text/x-python",
   "name": "python",
   "nbconvert_exporter": "python",
   "pygments_lexer": "ipython3",
   "version": "3.6.12"
  }
 },
 "nbformat": 4,
 "nbformat_minor": 4
}
