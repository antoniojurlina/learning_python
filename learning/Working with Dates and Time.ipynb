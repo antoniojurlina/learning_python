{
 "cells": [
  {
   "cell_type": "markdown",
   "metadata": {},
   "source": [
    "### Working with Dates and Times"
   ]
  },
  {
   "cell_type": "markdown",
   "metadata": {},
   "source": [
    " Date and time data comes in a few flavors:\n",
    "\n",
    "Time stamps reference particular moments in time (e.g., April 1st, 2021 at 12:30pm).\n",
    "\n",
    "Time intervals and periods reference a length of time between a particular beginning and end point; for example, the year 2020. Periods usually reference a special case of time intervals in which each interval is of uniform length and does not overlap (e.g., 24 hour-long periods comprising days).\n",
    "\n",
    "Time deltas or durations reference an exact length of time (e.g., a duration of 22.56 seconds).\n",
    "\n",
    "There are tools for dealing with dates and times in Python, as well as tools provided by Pandas. \n",
    "\n",
    "The time series tools provided by Pandas tend to be the most useful for data science applications."
   ]
  },
  {
   "cell_type": "code",
   "execution_count": 2,
   "metadata": {},
   "outputs": [],
   "source": [
    "import numpy as np\n",
    "import pandas as pd\n",
    "import seaborn as sns\n",
    "import matplotlib as plt\n",
    "from datetime import datetime"
   ]
  },
  {
   "cell_type": "markdown",
   "metadata": {},
   "source": [
    "#### Dates and Times in Python\n",
    "\n",
    "Python has a number of available representations of dates, times, deltas, and timespans. \n",
    "\n",
    "Python's basic objects for working with dates and times are in the built-in datetime module. \n",
    "\n",
    "The third-party dateutil module can be used to quickly perform a host of useful functions on dates and times. "
   ]
  },
  {
   "cell_type": "code",
   "execution_count": 3,
   "metadata": {},
   "outputs": [
    {
     "data": {
      "text/plain": [
       "datetime.datetime(2021, 4, 1, 0, 0)"
      ]
     },
     "execution_count": 3,
     "metadata": {},
     "output_type": "execute_result"
    }
   ],
   "source": [
    "datetime(year=2021, month=4, day=1)"
   ]
  },
  {
   "cell_type": "code",
   "execution_count": 4,
   "metadata": {},
   "outputs": [
    {
     "data": {
      "text/plain": [
       "datetime.datetime(2021, 4, 1, 0, 0)"
      ]
     },
     "execution_count": 4,
     "metadata": {},
     "output_type": "execute_result"
    }
   ],
   "source": [
    "from dateutil import parser\n",
    "date = parser.parse(\"1st of April, 2021\")\n",
    "date"
   ]
  },
  {
   "cell_type": "code",
   "execution_count": 5,
   "metadata": {},
   "outputs": [
    {
     "data": {
      "text/plain": [
       "'Thursday'"
      ]
     },
     "execution_count": 5,
     "metadata": {},
     "output_type": "execute_result"
    }
   ],
   "source": [
    "date.strftime('%A')"
   ]
  },
  {
   "cell_type": "code",
   "execution_count": 6,
   "metadata": {},
   "outputs": [
    {
     "data": {
      "text/plain": [
       "'Apr'"
      ]
     },
     "execution_count": 6,
     "metadata": {},
     "output_type": "execute_result"
    }
   ],
   "source": [
    "date.strftime('%b')"
   ]
  },
  {
   "cell_type": "code",
   "execution_count": 7,
   "metadata": {},
   "outputs": [
    {
     "data": {
      "text/plain": [
       "'01'"
      ]
     },
     "execution_count": 7,
     "metadata": {},
     "output_type": "execute_result"
    }
   ],
   "source": [
    "date.strftime('%d')"
   ]
  },
  {
   "cell_type": "markdown",
   "metadata": {},
   "source": [
    "The last are examples of the standard string format codes for printing dates and times."
   ]
  },
  {
   "cell_type": "markdown",
   "metadata": {},
   "source": [
    "The power of datetime and dateutil lie in their flexibility and easy syntax.\n",
    "\n",
    "You can use these objects and their built-in methods to easily perform many operations you might be interested in. \n",
    "\n",
    "They tend to break down when you want to work with large arrays of dates and times.\n",
    "\n",
    "Just as lists of Python numerical variables are suboptimal compared to NumPy-style typed numerical arrays, lists of Python datetime objects are suboptimal compared to typed arrays of encoded dates."
   ]
  },
  {
   "cell_type": "markdown",
   "metadata": {},
   "source": [
    "#### Typed arrays of times: NumPy's datetime64\n",
    "The weaknesses of Python's datetime format inspired the NumPy team to add a set of native time series data type to NumPy. \n",
    "\n",
    "The datetime64 dtype encodes dates as 64-bit integers, and thus allows arrays of dates to be represented very compactly. The datetime64 requires some specific input formatting."
   ]
  },
  {
   "cell_type": "code",
   "execution_count": 13,
   "metadata": {},
   "outputs": [
    {
     "data": {
      "text/plain": [
       "array('2021-04-01', dtype='datetime64[D]')"
      ]
     },
     "execution_count": 13,
     "metadata": {},
     "output_type": "execute_result"
    }
   ],
   "source": [
    "date = np.array('2021-04-01', dtype=np.datetime64)\n",
    "date"
   ]
  },
  {
   "cell_type": "code",
   "execution_count": null,
   "metadata": {},
   "outputs": [],
   "source": [
    "np.datetime64('2021-04')"
   ]
  },
  {
   "cell_type": "markdown",
   "metadata": {},
   "source": [
    "Specifying just the month, but forcing a ‘days’ unit:"
   ]
  },
  {
   "cell_type": "code",
   "execution_count": 8,
   "metadata": {},
   "outputs": [
    {
     "data": {
      "text/plain": [
       "numpy.datetime64('2021-04-01')"
      ]
     },
     "execution_count": 8,
     "metadata": {},
     "output_type": "execute_result"
    }
   ],
   "source": [
    "np.datetime64('2021-04', 'D')\n"
   ]
  },
  {
   "cell_type": "code",
   "execution_count": 10,
   "metadata": {},
   "outputs": [
    {
     "data": {
      "text/plain": [
       "numpy.datetime64('2021-04-01T12:30')"
      ]
     },
     "execution_count": 10,
     "metadata": {},
     "output_type": "execute_result"
    }
   ],
   "source": [
    "np.datetime64('2021-04-01T12:30')"
   ]
  },
  {
   "cell_type": "code",
   "execution_count": 11,
   "metadata": {},
   "outputs": [
    {
     "data": {
      "text/plain": [
       "numpy.datetime64('NaT')"
      ]
     },
     "execution_count": 11,
     "metadata": {},
     "output_type": "execute_result"
    }
   ],
   "source": [
    "np.datetime64('nat') # NaT not a time"
   ]
  },
  {
   "cell_type": "markdown",
   "metadata": {},
   "source": [
    "Once we have this date formatted, however, we can do vectorized operations on it:"
   ]
  },
  {
   "cell_type": "code",
   "execution_count": 14,
   "metadata": {},
   "outputs": [
    {
     "data": {
      "text/plain": [
       "array(['2021-04-01', '2021-04-02', '2021-04-03', '2021-04-04',\n",
       "       '2021-04-05', '2021-04-06', '2021-04-07', '2021-04-08',\n",
       "       '2021-04-09', '2021-04-10', '2021-04-11', '2021-04-12'],\n",
       "      dtype='datetime64[D]')"
      ]
     },
     "execution_count": 14,
     "metadata": {},
     "output_type": "execute_result"
    }
   ],
   "source": [
    "date + np.arange(12)"
   ]
  },
  {
   "cell_type": "markdown",
   "metadata": {},
   "source": [
    "Because of the uniform type in NumPy datetime64 arrays, this type of operation can be accomplished much more quickly than if we were working directly with Python's datetime objects, especially as arrays get large "
   ]
  },
  {
   "cell_type": "markdown",
   "metadata": {},
   "source": [
    "One detail of the datetime64 and timedelta64 objects is that they are built on a fundamental time unit. Because the datetime64 object is limited to 64-bit precision, the range of encodable times is $2^{64}$ times this fundamental unit. In other words, datetime64 imposes a trade-off between time resolution and maximum time span."
   ]
  },
  {
   "cell_type": "markdown",
   "metadata": {},
   "source": [
    "For example, if you want a time resolution of one nanosecond, you only have enough information to encode a range of $2^{64}$ nanoseconds, or just under 600 years. \n",
    "\n",
    "NumPy will infer the desired unit from the input; for example, here is a day-based datetime:"
   ]
  },
  {
   "cell_type": "markdown",
   "metadata": {},
   "source": [
    " Here is a day-based datetime:"
   ]
  },
  {
   "cell_type": "code",
   "execution_count": 10,
   "metadata": {},
   "outputs": [
    {
     "data": {
      "text/plain": [
       "numpy.datetime64('2021-04-01')"
      ]
     },
     "execution_count": 10,
     "metadata": {},
     "output_type": "execute_result"
    }
   ],
   "source": [
    "np.datetime64('2021-04-01')"
   ]
  },
  {
   "cell_type": "markdown",
   "metadata": {},
   "source": [
    "Here is a minute-based datetime:"
   ]
  },
  {
   "cell_type": "code",
   "execution_count": 11,
   "metadata": {},
   "outputs": [
    {
     "data": {
      "text/plain": [
       "numpy.datetime64('2021-04-01T12:00')"
      ]
     },
     "execution_count": 11,
     "metadata": {},
     "output_type": "execute_result"
    }
   ],
   "source": [
    "np.datetime64('2021-04-01 12:00')"
   ]
  },
  {
   "cell_type": "markdown",
   "metadata": {},
   "source": [
    "You can force any desired fundamental unit using one of many format codes; for example, here we'll force a nanosecond-based time:"
   ]
  },
  {
   "cell_type": "code",
   "execution_count": 12,
   "metadata": {},
   "outputs": [
    {
     "data": {
      "text/plain": [
       "numpy.datetime64('2015-07-04T12:59:59.500000000')"
      ]
     },
     "execution_count": 12,
     "metadata": {},
     "output_type": "execute_result"
    }
   ],
   "source": [
    "np.datetime64('2015-07-04 12:59:59.50', 'ns')"
   ]
  },
  {
   "cell_type": "markdown",
   "metadata": {},
   "source": [
    "The following table from the NumPy datetime64 documentation, lists the available format codes along with the relative and absolute timespans that they can encode:\n",
    "\n",
    "\n",
    "    Code\tMeaning\tTime span (relative)\tTime span (absolute)\n",
    "    Y\tYear\t± 9.2e18 years\t[9.2e18 BC, 9.2e18 AD]\n",
    "    M\tMonth\t± 7.6e17 years\t[7.6e17 BC, 7.6e17 AD]\n",
    "    W\tWeek\t± 1.7e17 years\t[1.7e17 BC, 1.7e17 AD]\n",
    "    D\tDay\t± 2.5e16 years\t[2.5e16 BC, 2.5e16 AD]\n",
    "    h\tHour\t± 1.0e15 years\t[1.0e15 BC, 1.0e15 AD]\n",
    "    m\tMinute\t± 1.7e13 years\t[1.7e13 BC, 1.7e13 AD]\n",
    "    s\tSecond\t± 2.9e12 years\t[ 2.9e9 BC, 2.9e9 AD]\n",
    "    ms\tMillisecond\t± 2.9e9 years\t[ 2.9e6 BC, 2.9e6 AD]\n",
    "    us\tMicrosecond\t± 2.9e6 years\t[290301 BC, 294241 AD]\n",
    "    ns\tNanosecond\t± 292 years\t[ 1678 AD, 2262 AD]\n",
    "    ps\tPicosecond\t± 106 days\t[ 1969 AD, 1970 AD]\n",
    "    fs\tFemtosecond\t± 2.6 hours\t[ 1969 AD, 1970 AD]\n",
    "    as\tAttosecond\t± 9.2 seconds\t[ 1969 AD, 1970 AD]"
   ]
  },
  {
   "cell_type": "markdown",
   "metadata": {},
   "source": [
    "#### Dates and times in pandas\n",
    "\n",
    "Pandas builds upon these tools to provide a Timestamp object, which combines the ease-of-use of datetime and dateutil with the efficient storage and vectorized interface of numpy.datetime64. \n",
    "\n",
    "From a group of Timestamp objects, Pandas can construct a DatetimeIndex that can be used to index data in a Series\n",
    "or DataFrame.\n",
    "\n",
    "For example, we can use Pandas tools to repeat the demonstration from above. We can parse a flexibly formatted string date, and use format codes to output the day of the week:"
   ]
  },
  {
   "cell_type": "code",
   "execution_count": 22,
   "metadata": {},
   "outputs": [
    {
     "data": {
      "text/plain": [
       "Timestamp('2021-04-01 00:00:00')"
      ]
     },
     "execution_count": 22,
     "metadata": {},
     "output_type": "execute_result"
    }
   ],
   "source": [
    "date = pd.to_datetime(\"1st of April, 2021\")\n",
    "date"
   ]
  },
  {
   "cell_type": "code",
   "execution_count": 23,
   "metadata": {},
   "outputs": [
    {
     "data": {
      "text/plain": [
       "'Thursday'"
      ]
     },
     "execution_count": 23,
     "metadata": {},
     "output_type": "execute_result"
    }
   ],
   "source": [
    "date.strftime('%A')"
   ]
  },
  {
   "cell_type": "markdown",
   "metadata": {},
   "source": [
    "Additionally, we can do NumPy-style vectorized operations directly on this same object:"
   ]
  },
  {
   "cell_type": "code",
   "execution_count": 24,
   "metadata": {},
   "outputs": [
    {
     "data": {
      "text/plain": [
       "DatetimeIndex(['2021-04-01', '2021-04-02', '2021-04-03', '2021-04-04',\n",
       "               '2021-04-05', '2021-04-06', '2021-04-07', '2021-04-08',\n",
       "               '2021-04-09', '2021-04-10', '2021-04-11', '2021-04-12'],\n",
       "              dtype='datetime64[ns]', freq=None)"
      ]
     },
     "execution_count": 24,
     "metadata": {},
     "output_type": "execute_result"
    }
   ],
   "source": [
    "date + pd.to_timedelta(np.arange(12), 'D')"
   ]
  },
  {
   "cell_type": "markdown",
   "metadata": {},
   "source": [
    "### Pandas Time Series Data Structures\n",
    "The fundamental Pandas data structures for working with time series data:\n",
    "\n",
    "**Time stamps:** Pandas Timestamp type is essentially a replacement for Python's native datetime, but is based on the more efficient numpy.datetime64 data type. The associated Index structure is DatetimeIndex.\n",
    "\n",
    "**Time Periods:** Pandas Period type encodes a fixed-frequency interval based on numpy.datetime64. The associated index structure is PeriodIndex.\n",
    "\n",
    "**Time deltas:** Pandas Timedelta type provides a more efficient replacement for Python's native datetime.timedelta type, and is based on numpy.timedelta64. The associated index structure is TimedeltaIndex."
   ]
  },
  {
   "cell_type": "markdown",
   "metadata": {},
   "source": [
    "The most fundamental of these date/time objects are the Timestamp and DatetimeIndex objects. \n",
    "\n",
    "This class of objects can be invoked directly, but it is common to use the pd.to_datetime() function, which can parse a wide variety of formats. \n",
    "\n",
    "Passing a single date to pd.to_datetime() yields a Timestamp; passing a series of dates by default yields a DatetimeIndex:"
   ]
  },
  {
   "cell_type": "code",
   "execution_count": 27,
   "metadata": {},
   "outputs": [
    {
     "data": {
      "text/plain": [
       "DatetimeIndex(['2021-03-31', '2021-04-01', '2021-04-02', '2021-04-03',\n",
       "               '2021-04-04'],\n",
       "              dtype='datetime64[ns]', freq=None)"
      ]
     },
     "execution_count": 27,
     "metadata": {},
     "output_type": "execute_result"
    }
   ],
   "source": [
    "dates = pd.to_datetime([datetime(2021, 3, 31), '1st of April, 2021',\n",
    "                       '2021-Apr-2', '04-03-2021', '20210404'])\n",
    "dates"
   ]
  },
  {
   "cell_type": "markdown",
   "metadata": {},
   "source": [
    "Any DatetimeIndex can be converted to a PeriodIndex with the to_period() function with the addition of a frequency code; here 'D' indicates daily frequency:"
   ]
  },
  {
   "cell_type": "code",
   "execution_count": 28,
   "metadata": {},
   "outputs": [
    {
     "data": {
      "text/plain": [
       "PeriodIndex(['2021-03-31', '2021-04-01', '2021-04-02', '2021-04-03',\n",
       "             '2021-04-04'],\n",
       "            dtype='period[D]', freq='D')"
      ]
     },
     "execution_count": 28,
     "metadata": {},
     "output_type": "execute_result"
    }
   ],
   "source": [
    "dates.to_period('D')"
   ]
  },
  {
   "cell_type": "markdown",
   "metadata": {},
   "source": [
    "A TimedeltaIndex is created, for example, when a date is subtracted from another:"
   ]
  },
  {
   "cell_type": "code",
   "execution_count": 23,
   "metadata": {},
   "outputs": [
    {
     "data": {
      "text/plain": [
       "TimedeltaIndex(['0 days', '1 days', '2 days', '3 days', '4 days'], dtype='timedelta64[ns]', freq=None)"
      ]
     },
     "execution_count": 23,
     "metadata": {},
     "output_type": "execute_result"
    }
   ],
   "source": [
    "dates - dates[0]"
   ]
  },
  {
   "cell_type": "markdown",
   "metadata": {},
   "source": [
    "### Pandas Time Series: Indexing by Time\n",
    "\n",
    "Pandas time series tools become really useful in indexing data by timestamps. \n",
    "\n",
    "For example, we can construct a Series object that has time indexed data"
   ]
  },
  {
   "cell_type": "code",
   "execution_count": 25,
   "metadata": {},
   "outputs": [
    {
     "data": {
      "text/plain": [
       "2020-03-01    0\n",
       "2020-04-01    1\n",
       "2021-03-01    2\n",
       "2021-04-01    3\n",
       "dtype: int64"
      ]
     },
     "execution_count": 25,
     "metadata": {},
     "output_type": "execute_result"
    }
   ],
   "source": [
    "index = pd.DatetimeIndex(['2020-03-01', '2020-04-01','2021-03-01', '2021-04-01'])\n",
    "data = pd.Series([0, 1, 2, 3], index=index)\n",
    "data"
   ]
  },
  {
   "cell_type": "markdown",
   "metadata": {},
   "source": [
    "With this data in a Series, we can make use of any of the Series indexing patterns, passing values that can be coerced into dates."
   ]
  },
  {
   "cell_type": "code",
   "execution_count": 17,
   "metadata": {},
   "outputs": [
    {
     "data": {
      "text/plain": [
       "2020-04-01    1\n",
       "2021-03-01    2\n",
       "2021-04-01    3\n",
       "dtype: int64"
      ]
     },
     "execution_count": 17,
     "metadata": {},
     "output_type": "execute_result"
    }
   ],
   "source": [
    "data['2020-04-01':'2021-04-01']"
   ]
  },
  {
   "cell_type": "markdown",
   "metadata": {},
   "source": [
    "There are additional special date-only indexing operations, such as passing a year to obtain a slice of all data from that year:"
   ]
  },
  {
   "cell_type": "code",
   "execution_count": 26,
   "metadata": {},
   "outputs": [
    {
     "data": {
      "text/plain": [
       "2021-03-01    2\n",
       "2021-04-01    3\n",
       "dtype: int64"
      ]
     },
     "execution_count": 26,
     "metadata": {},
     "output_type": "execute_result"
    }
   ],
   "source": [
    "data['2021']"
   ]
  },
  {
   "cell_type": "markdown",
   "metadata": {},
   "source": [
    "#### Regular sequences: pd.date_range()\n",
    "\n",
    "To make the creation of regular date sequences more convenient, Pandas offers a few functions for this purpose: \n",
    "pd.date_range() for timestamps, \n",
    "pd.period_range() for periods, \n",
    "pd.timedelta_range() for time deltas. \n",
    "\n",
    "We've seen that Python's range() and NumPy's np.arange() turn a startpoint, endpoint, and optional stepsize into a sequence. Similarly, pd.date_range() accepts a start date, an end date, and an optional frequency code to create a regular sequence of dates. By default, the frequency is one day:"
   ]
  },
  {
   "cell_type": "code",
   "execution_count": 24,
   "metadata": {},
   "outputs": [
    {
     "data": {
      "text/plain": [
       "DatetimeIndex(['2021-03-31', '2021-04-01', '2021-04-02', '2021-04-03',\n",
       "               '2021-04-04', '2021-04-05', '2021-04-06', '2021-04-07',\n",
       "               '2021-04-08', '2021-04-09', '2021-04-10'],\n",
       "              dtype='datetime64[ns]', freq='D')"
      ]
     },
     "execution_count": 24,
     "metadata": {},
     "output_type": "execute_result"
    }
   ],
   "source": [
    "pd.date_range('2021-03-31', '2021-04-10')"
   ]
  },
  {
   "cell_type": "markdown",
   "metadata": {},
   "source": [
    "Alternatively, the date range can be specified not with a start and endpoint, but with a startpoint and a number of periods:"
   ]
  },
  {
   "cell_type": "code",
   "execution_count": 25,
   "metadata": {},
   "outputs": [
    {
     "data": {
      "text/plain": [
       "DatetimeIndex(['2021-04-01 00:00:00', '2021-04-01 01:00:00',\n",
       "               '2021-04-01 02:00:00', '2021-04-01 03:00:00',\n",
       "               '2021-04-01 04:00:00', '2021-04-01 05:00:00',\n",
       "               '2021-04-01 06:00:00', '2021-04-01 07:00:00'],\n",
       "              dtype='datetime64[ns]', freq='H')"
      ]
     },
     "execution_count": 25,
     "metadata": {},
     "output_type": "execute_result"
    }
   ],
   "source": [
    "pd.date_range('2021-04-01', periods=8, freq='H')"
   ]
  },
  {
   "cell_type": "markdown",
   "metadata": {},
   "source": [
    "To create regular sequences of Period or Timedelta values, the pd.period_range() and pd.timedelta_range() functions can be used. Here are some monthly periods:"
   ]
  },
  {
   "cell_type": "code",
   "execution_count": 26,
   "metadata": {},
   "outputs": [
    {
     "data": {
      "text/plain": [
       "PeriodIndex(['2021-01', '2021-02', '2021-03', '2021-04', '2021-05', '2021-06',\n",
       "             '2021-07', '2021-08'],\n",
       "            dtype='period[M]', freq='M')"
      ]
     },
     "execution_count": 26,
     "metadata": {},
     "output_type": "execute_result"
    }
   ],
   "source": [
    "pd.period_range('2021-01', periods=8, freq='M')"
   ]
  },
  {
   "cell_type": "markdown",
   "metadata": {},
   "source": [
    "And a sequence of durations increasing by an hour:"
   ]
  },
  {
   "cell_type": "code",
   "execution_count": 27,
   "metadata": {},
   "outputs": [
    {
     "data": {
      "text/plain": [
       "TimedeltaIndex(['0 days 00:00:00', '0 days 01:00:00', '0 days 02:00:00',\n",
       "                '0 days 03:00:00', '0 days 04:00:00', '0 days 05:00:00',\n",
       "                '0 days 06:00:00', '0 days 07:00:00', '0 days 08:00:00',\n",
       "                '0 days 09:00:00'],\n",
       "               dtype='timedelta64[ns]', freq='H')"
      ]
     },
     "execution_count": 27,
     "metadata": {},
     "output_type": "execute_result"
    }
   ],
   "source": [
    "pd.timedelta_range(0, periods=10, freq='H')"
   ]
  },
  {
   "cell_type": "markdown",
   "metadata": {},
   "source": [
    "### Frequencies and Offsets\n",
    "\n",
    "Fundamental to these Pandas time series tools is the concept of a frequency or date offset. Just as we saw the D (day) and H (hour) codes above, we can use such codes to specify any desired frequency spacing. The following table summarizes the main codes available:\n",
    "\n",
    "    Code\tDescription\tCode\tDescription\n",
    "    D\tCalendar day\tB\tBusiness day\n",
    "    W\tWeekly\t\t\n",
    "    M\tMonth end\tBM\tBusiness month end\n",
    "    Q\tQuarter end\tBQ\tBusiness quarter end\n",
    "    A\tYear end\tBA\tBusiness year end\n",
    "    H\tHours\tBH\tBusiness hours\n",
    "    T\tMinutes\t\t\n",
    "    S\tSeconds\t\t\n",
    "    L\tMilliseonds\t\t\n",
    "    U\tMicroseconds\t\t\n",
    "    N\tnanoseconds\t\t"
   ]
  },
  {
   "cell_type": "markdown",
   "metadata": {},
   "source": [
    "The monthly, quarterly, and annual frequencies are all marked at the end of the specified period. By adding an S suffix to any of these, they instead will be marked at the beginning:\n",
    "\n",
    "    Code\tDescription\t\tCode\tDescription\n",
    "    MS\tMonth start\t\tBMS\tBusiness month start\n",
    "    QS\tQuarter start\t\tBQS\tBusiness quarter start\n",
    "    AS\tYear start\t\tBAS\tBusiness year start\n",
    "    \n",
    "Additionally, you can change the month used to mark any quarterly or annual code by adding a three-letter month code as a suffix:\n",
    "\n",
    "    Q-JAN, BQ-FEB, QS-MAR, BQS-APR, etc.\n",
    "    A-JAN, BA-FEB, AS-MAR, BAS-APR, etc.\n",
    "\n",
    "In the same way, the split-point of the weekly frequency can be modified by adding a three-letter weekday code:\n",
    "\n",
    "    W-SUN, W-MON, W-TUE, W-WED, etc.\n",
    "    \n",
    "Also  codes can be combined with numbers to specify other frequencies. For example, for a frequency of 2 hours 30 minutes, we can combine the hour (H) and minute (T) codes as follows:"
   ]
  },
  {
   "cell_type": "code",
   "execution_count": 3,
   "metadata": {},
   "outputs": [
    {
     "data": {
      "text/plain": [
       "TimedeltaIndex(['0 days 00:00:00', '0 days 02:30:00', '0 days 05:00:00',\n",
       "                '0 days 07:30:00', '0 days 10:00:00', '0 days 12:30:00',\n",
       "                '0 days 15:00:00', '0 days 17:30:00', '0 days 20:00:00'],\n",
       "               dtype='timedelta64[ns]', freq='150T')"
      ]
     },
     "execution_count": 3,
     "metadata": {},
     "output_type": "execute_result"
    }
   ],
   "source": [
    "pd.timedelta_range(0, periods=9, freq=\"2H30T\")"
   ]
  },
  {
   "cell_type": "markdown",
   "metadata": {},
   "source": [
    "All of these short codes refer to specific instances of Pandas time series offsets, which can be found in the pd.tseries.offsets module. For example, we can create a business day offset directly as follows:"
   ]
  },
  {
   "cell_type": "code",
   "execution_count": 5,
   "metadata": {},
   "outputs": [
    {
     "data": {
      "text/plain": [
       "DatetimeIndex(['2021-04-01', '2021-04-02', '2021-04-05', '2021-04-06',\n",
       "               '2021-04-07'],\n",
       "              dtype='datetime64[ns]', freq='B')"
      ]
     },
     "execution_count": 5,
     "metadata": {},
     "output_type": "execute_result"
    }
   ],
   "source": [
    "from pandas.tseries.offsets import BDay\n",
    "pd.date_range('2021-04-01', periods=5, freq=BDay())"
   ]
  },
  {
   "cell_type": "markdown",
   "metadata": {},
   "source": [
    "The ability to use dates and times as indices to intuitively organize and access data is an important piece of the Pandas time series tools. \n",
    "\n",
    "The benefits of indexed data in general (automatic alignment during operations, intuitive data slicing and access, etc.) still apply, and Pandas provides several additional time series-specific operations."
   ]
  },
  {
   "attachments": {
    "image.png": {
     "image/png": "[encoded data removed]"
    }
   },
   "cell_type": "markdown",
   "metadata": {},
   "source": [
    "![image.png](attachment:image.png)"
   ]
  },
  {
   "cell_type": "code",
   "execution_count": 30,
   "metadata": {},
   "outputs": [],
   "source": [
    "data=pd.read_csv(r'C:\\Courses\\DSE Practicum\\Data\\F0133_sbe37_realtime_20m.csv')"
   ]
  },
  {
   "cell_type": "code",
   "execution_count": 31,
   "metadata": {},
   "outputs": [
    {
     "data": {
      "text/html": [
       "<div>\n",
       "<style scoped>\n",
       "    .dataframe tbody tr th:only-of-type {\n",
       "        vertical-align: middle;\n",
       "    }\n",
       "\n",
       "    .dataframe tbody tr th {\n",
       "        vertical-align: top;\n",
       "    }\n",
       "\n",
       "    .dataframe thead th {\n",
       "        text-align: right;\n",
       "    }\n",
       "</style>\n",
       "<table border=\"1\" class=\"dataframe\">\n",
       "  <thead>\n",
       "    <tr style=\"text-align: right;\">\n",
       "      <th></th>\n",
       "      <th>Time[GMT]</th>\n",
       "      <th>salinity[psu](20m)</th>\n",
       "      <th>sigma_t[kg/m^3](20m)</th>\n",
       "      <th>conductivity[msiemens/cm](20m)</th>\n",
       "      <th>temperature[C](20m)</th>\n",
       "    </tr>\n",
       "  </thead>\n",
       "  <tbody>\n",
       "    <tr>\n",
       "      <th>0</th>\n",
       "      <td>2020-11-10 22:00</td>\n",
       "      <td>32.164</td>\n",
       "      <td>24.574</td>\n",
       "      <td>36.163</td>\n",
       "      <td>10.97</td>\n",
       "    </tr>\n",
       "    <tr>\n",
       "      <th>1</th>\n",
       "      <td>2020-11-10 23:00</td>\n",
       "      <td>32.316</td>\n",
       "      <td>24.716</td>\n",
       "      <td>36.200</td>\n",
       "      <td>10.83</td>\n",
       "    </tr>\n",
       "    <tr>\n",
       "      <th>2</th>\n",
       "      <td>2020-11-11 00:00</td>\n",
       "      <td>32.331</td>\n",
       "      <td>24.726</td>\n",
       "      <td>36.223</td>\n",
       "      <td>10.84</td>\n",
       "    </tr>\n",
       "    <tr>\n",
       "      <th>3</th>\n",
       "      <td>2020-11-11 01:00</td>\n",
       "      <td>32.404</td>\n",
       "      <td>24.789</td>\n",
       "      <td>36.262</td>\n",
       "      <td>10.80</td>\n",
       "    </tr>\n",
       "    <tr>\n",
       "      <th>4</th>\n",
       "      <td>2020-11-11 02:00</td>\n",
       "      <td>32.447</td>\n",
       "      <td>24.826</td>\n",
       "      <td>36.288</td>\n",
       "      <td>10.78</td>\n",
       "    </tr>\n",
       "  </tbody>\n",
       "</table>\n",
       "</div>"
      ],
      "text/plain": [
       "          Time[GMT]  salinity[psu](20m)  sigma_t[kg/m^3](20m)  \\\n",
       "0  2020-11-10 22:00              32.164                24.574   \n",
       "1  2020-11-10 23:00              32.316                24.716   \n",
       "2  2020-11-11 00:00              32.331                24.726   \n",
       "3  2020-11-11 01:00              32.404                24.789   \n",
       "4  2020-11-11 02:00              32.447                24.826   \n",
       "\n",
       "   conductivity[msiemens/cm](20m)  temperature[C](20m)  \n",
       "0                          36.163                10.97  \n",
       "1                          36.200                10.83  \n",
       "2                          36.223                10.84  \n",
       "3                          36.262                10.80  \n",
       "4                          36.288                10.78  "
      ]
     },
     "execution_count": 31,
     "metadata": {},
     "output_type": "execute_result"
    }
   ],
   "source": [
    "data.head()"
   ]
  },
  {
   "cell_type": "code",
   "execution_count": 32,
   "metadata": {},
   "outputs": [
    {
     "data": {
      "text/plain": [
       "Time[GMT]                          object\n",
       "salinity[psu](20m)                float64\n",
       "sigma_t[kg/m^3](20m)              float64\n",
       "conductivity[msiemens/cm](20m)    float64\n",
       "temperature[C](20m)               float64\n",
       "dtype: object"
      ]
     },
     "execution_count": 32,
     "metadata": {},
     "output_type": "execute_result"
    }
   ],
   "source": [
    "data.dtypes"
   ]
  },
  {
   "cell_type": "code",
   "execution_count": 35,
   "metadata": {},
   "outputs": [],
   "source": [
    "data=pd.read_csv(r'C:\\Courses\\DSE Practicum\\Data\\F0133_sbe37_realtime_20m.csv', parse_dates=[\"Time[GMT]\"]) "
   ]
  },
  {
   "cell_type": "code",
   "execution_count": 36,
   "metadata": {},
   "outputs": [
    {
     "data": {
      "text/plain": [
       "Time[GMT]                         datetime64[ns]\n",
       "salinity[psu](20m)                       float64\n",
       "sigma_t[kg/m^3](20m)                     float64\n",
       "conductivity[msiemens/cm](20m)           float64\n",
       "temperature[C](20m)                      float64\n",
       "dtype: object"
      ]
     },
     "execution_count": 36,
     "metadata": {},
     "output_type": "execute_result"
    }
   ],
   "source": [
    "data.dtypes"
   ]
  },
  {
   "cell_type": "code",
   "execution_count": 37,
   "metadata": {},
   "outputs": [
    {
     "data": {
      "text/html": [
       "<div>\n",
       "<style scoped>\n",
       "    .dataframe tbody tr th:only-of-type {\n",
       "        vertical-align: middle;\n",
       "    }\n",
       "\n",
       "    .dataframe tbody tr th {\n",
       "        vertical-align: top;\n",
       "    }\n",
       "\n",
       "    .dataframe thead th {\n",
       "        text-align: right;\n",
       "    }\n",
       "</style>\n",
       "<table border=\"1\" class=\"dataframe\">\n",
       "  <thead>\n",
       "    <tr style=\"text-align: right;\">\n",
       "      <th></th>\n",
       "      <th>Time[GMT]</th>\n",
       "      <th>salinity[psu](20m)</th>\n",
       "      <th>sigma_t[kg/m^3](20m)</th>\n",
       "      <th>conductivity[msiemens/cm](20m)</th>\n",
       "      <th>temperature[C](20m)</th>\n",
       "    </tr>\n",
       "  </thead>\n",
       "  <tbody>\n",
       "    <tr>\n",
       "      <th>0</th>\n",
       "      <td>2020-11-10 22:00:00</td>\n",
       "      <td>32.164</td>\n",
       "      <td>24.574</td>\n",
       "      <td>36.163</td>\n",
       "      <td>10.97</td>\n",
       "    </tr>\n",
       "    <tr>\n",
       "      <th>1</th>\n",
       "      <td>2020-11-10 23:00:00</td>\n",
       "      <td>32.316</td>\n",
       "      <td>24.716</td>\n",
       "      <td>36.200</td>\n",
       "      <td>10.83</td>\n",
       "    </tr>\n",
       "    <tr>\n",
       "      <th>2</th>\n",
       "      <td>2020-11-11 00:00:00</td>\n",
       "      <td>32.331</td>\n",
       "      <td>24.726</td>\n",
       "      <td>36.223</td>\n",
       "      <td>10.84</td>\n",
       "    </tr>\n",
       "    <tr>\n",
       "      <th>3</th>\n",
       "      <td>2020-11-11 01:00:00</td>\n",
       "      <td>32.404</td>\n",
       "      <td>24.789</td>\n",
       "      <td>36.262</td>\n",
       "      <td>10.80</td>\n",
       "    </tr>\n",
       "    <tr>\n",
       "      <th>4</th>\n",
       "      <td>2020-11-11 02:00:00</td>\n",
       "      <td>32.447</td>\n",
       "      <td>24.826</td>\n",
       "      <td>36.288</td>\n",
       "      <td>10.78</td>\n",
       "    </tr>\n",
       "  </tbody>\n",
       "</table>\n",
       "</div>"
      ],
      "text/plain": [
       "            Time[GMT]  salinity[psu](20m)  sigma_t[kg/m^3](20m)  \\\n",
       "0 2020-11-10 22:00:00              32.164                24.574   \n",
       "1 2020-11-10 23:00:00              32.316                24.716   \n",
       "2 2020-11-11 00:00:00              32.331                24.726   \n",
       "3 2020-11-11 01:00:00              32.404                24.789   \n",
       "4 2020-11-11 02:00:00              32.447                24.826   \n",
       "\n",
       "   conductivity[msiemens/cm](20m)  temperature[C](20m)  \n",
       "0                          36.163                10.97  \n",
       "1                          36.200                10.83  \n",
       "2                          36.223                10.84  \n",
       "3                          36.262                10.80  \n",
       "4                          36.288                10.78  "
      ]
     },
     "execution_count": 37,
     "metadata": {},
     "output_type": "execute_result"
    }
   ],
   "source": [
    "data.head()"
   ]
  },
  {
   "cell_type": "code",
   "execution_count": 38,
   "metadata": {},
   "outputs": [],
   "source": [
    "data=pd.read_csv(r'C:\\Courses\\DSE Practicum\\Data\\F0133_sbe37_realtime_20m.csv', index_col=[\"Time[GMT]\"], parse_dates=[\"Time[GMT]\"])"
   ]
  },
  {
   "cell_type": "code",
   "execution_count": 39,
   "metadata": {},
   "outputs": [
    {
     "data": {
      "text/html": [
       "<div>\n",
       "<style scoped>\n",
       "    .dataframe tbody tr th:only-of-type {\n",
       "        vertical-align: middle;\n",
       "    }\n",
       "\n",
       "    .dataframe tbody tr th {\n",
       "        vertical-align: top;\n",
       "    }\n",
       "\n",
       "    .dataframe thead th {\n",
       "        text-align: right;\n",
       "    }\n",
       "</style>\n",
       "<table border=\"1\" class=\"dataframe\">\n",
       "  <thead>\n",
       "    <tr style=\"text-align: right;\">\n",
       "      <th></th>\n",
       "      <th>salinity[psu](20m)</th>\n",
       "      <th>sigma_t[kg/m^3](20m)</th>\n",
       "      <th>conductivity[msiemens/cm](20m)</th>\n",
       "      <th>temperature[C](20m)</th>\n",
       "    </tr>\n",
       "    <tr>\n",
       "      <th>Time[GMT]</th>\n",
       "      <th></th>\n",
       "      <th></th>\n",
       "      <th></th>\n",
       "      <th></th>\n",
       "    </tr>\n",
       "  </thead>\n",
       "  <tbody>\n",
       "    <tr>\n",
       "      <th>2021-03-31 15:00:00</th>\n",
       "      <td>31.925</td>\n",
       "      <td>25.307</td>\n",
       "      <td>30.251</td>\n",
       "      <td>4.34</td>\n",
       "    </tr>\n",
       "    <tr>\n",
       "      <th>2021-03-31 16:00:00</th>\n",
       "      <td>32.038</td>\n",
       "      <td>25.389</td>\n",
       "      <td>30.410</td>\n",
       "      <td>4.42</td>\n",
       "    </tr>\n",
       "    <tr>\n",
       "      <th>2021-03-31 17:00:00</th>\n",
       "      <td>32.093</td>\n",
       "      <td>25.429</td>\n",
       "      <td>30.484</td>\n",
       "      <td>4.45</td>\n",
       "    </tr>\n",
       "    <tr>\n",
       "      <th>2021-03-31 18:00:00</th>\n",
       "      <td>32.086</td>\n",
       "      <td>25.421</td>\n",
       "      <td>30.505</td>\n",
       "      <td>4.48</td>\n",
       "    </tr>\n",
       "    <tr>\n",
       "      <th>2021-03-31 19:00:00</th>\n",
       "      <td>32.131</td>\n",
       "      <td>25.456</td>\n",
       "      <td>30.549</td>\n",
       "      <td>4.49</td>\n",
       "    </tr>\n",
       "  </tbody>\n",
       "</table>\n",
       "</div>"
      ],
      "text/plain": [
       "                     salinity[psu](20m)  sigma_t[kg/m^3](20m)  \\\n",
       "Time[GMT]                                                       \n",
       "2021-03-31 15:00:00              31.925                25.307   \n",
       "2021-03-31 16:00:00              32.038                25.389   \n",
       "2021-03-31 17:00:00              32.093                25.429   \n",
       "2021-03-31 18:00:00              32.086                25.421   \n",
       "2021-03-31 19:00:00              32.131                25.456   \n",
       "\n",
       "                     conductivity[msiemens/cm](20m)  temperature[C](20m)  \n",
       "Time[GMT]                                                                 \n",
       "2021-03-31 15:00:00                          30.251                 4.34  \n",
       "2021-03-31 16:00:00                          30.410                 4.42  \n",
       "2021-03-31 17:00:00                          30.484                 4.45  \n",
       "2021-03-31 18:00:00                          30.505                 4.48  \n",
       "2021-03-31 19:00:00                          30.549                 4.49  "
      ]
     },
     "execution_count": 39,
     "metadata": {},
     "output_type": "execute_result"
    }
   ],
   "source": [
    "data.tail()"
   ]
  },
  {
   "cell_type": "code",
   "execution_count": 40,
   "metadata": {},
   "outputs": [
    {
     "data": {
      "text/plain": [
       "salinity[psu](20m)                float64\n",
       "sigma_t[kg/m^3](20m)              float64\n",
       "conductivity[msiemens/cm](20m)    float64\n",
       "temperature[C](20m)               float64\n",
       "dtype: object"
      ]
     },
     "execution_count": 40,
     "metadata": {},
     "output_type": "execute_result"
    }
   ],
   "source": [
    "data.dtypes"
   ]
  },
  {
   "cell_type": "code",
   "execution_count": 43,
   "metadata": {},
   "outputs": [
    {
     "data": {
      "text/plain": [
       "DatetimeIndex(['2020-11-10 22:00:00', '2020-11-10 23:00:00',\n",
       "               '2020-11-11 00:00:00', '2020-11-11 01:00:00',\n",
       "               '2020-11-11 02:00:00', '2020-11-11 03:00:00',\n",
       "               '2020-11-11 04:00:00', '2020-11-11 05:00:00',\n",
       "               '2020-11-11 06:00:00', '2020-11-11 07:00:00',\n",
       "               ...\n",
       "               '2021-03-31 10:00:00', '2021-03-31 11:00:00',\n",
       "               '2021-03-31 12:00:00', '2021-03-31 13:00:00',\n",
       "               '2021-03-31 14:00:00', '2021-03-31 15:00:00',\n",
       "               '2021-03-31 16:00:00', '2021-03-31 17:00:00',\n",
       "               '2021-03-31 18:00:00', '2021-03-31 19:00:00'],\n",
       "              dtype='datetime64[ns]', name='Time[GMT]', length=3382, freq=None)"
      ]
     },
     "execution_count": 43,
     "metadata": {},
     "output_type": "execute_result"
    }
   ],
   "source": [
    "data.index"
   ]
  },
  {
   "cell_type": "code",
   "execution_count": 21,
   "metadata": {},
   "outputs": [
    {
     "data": {
      "text/plain": [
       "Index(['Time[GMT]', 'salinity[psu](20m)', 'sigma_t[kg/m^3](20m)',\n",
       "       'conductivity[msiemens/cm](20m)', 'temperature[C](20m)'],\n",
       "      dtype='object')"
      ]
     },
     "execution_count": 21,
     "metadata": {},
     "output_type": "execute_result"
    }
   ],
   "source": [
    "data.columns"
   ]
  },
  {
   "cell_type": "code",
   "execution_count": 44,
   "metadata": {},
   "outputs": [],
   "source": [
    "gm=data.rename(columns={'salinity[psu](20m)': 'Salinity', \n",
    "                            'sigma_t[kg/m^3](20m)': 'Sigma_t',\n",
    "                            'conductivity[msiemens/cm](20m)': 'Conductivity',\n",
    "                            'temperature[C](20m)': 'Temperature'})"
   ]
  },
  {
   "cell_type": "markdown",
   "metadata": {},
   "source": [
    "For time series data, it’s conventional to represent the time component in the index of a Series or DataFrame so manipulations can be performed with respect to the time element.\n",
    "\n",
    "One of the main uses for DatetimeIndex is as an index for pandas objects. The DatetimeIndex class contains many time series related optimizations.\n",
    "\n",
    "A large range of dates for various offsets are pre-computed and cached under the hood in order to make generating subsequent date ranges very fast (just have to grab a slice).\n",
    "\n",
    "Fast shifting using the shift method on pandas objects.\n",
    "\n",
    "Unioning of overlapping DatetimeIndex objects with the same frequency is very fast (important for fast data alignment).\n",
    "\n",
    "Quick access to date fields via properties such as year, month, etc.\n"
   ]
  },
  {
   "cell_type": "code",
   "execution_count": 6,
   "metadata": {},
   "outputs": [
    {
     "data": {
      "text/html": [
       "<div>\n",
       "<style scoped>\n",
       "    .dataframe tbody tr th:only-of-type {\n",
       "        vertical-align: middle;\n",
       "    }\n",
       "\n",
       "    .dataframe tbody tr th {\n",
       "        vertical-align: top;\n",
       "    }\n",
       "\n",
       "    .dataframe thead th {\n",
       "        text-align: right;\n",
       "    }\n",
       "</style>\n",
       "<table border=\"1\" class=\"dataframe\">\n",
       "  <thead>\n",
       "    <tr style=\"text-align: right;\">\n",
       "      <th></th>\n",
       "      <th>Salinity</th>\n",
       "      <th>Sigma_t</th>\n",
       "      <th>Conductivity</th>\n",
       "      <th>Temperature</th>\n",
       "    </tr>\n",
       "    <tr>\n",
       "      <th>Time[GMT]</th>\n",
       "      <th></th>\n",
       "      <th></th>\n",
       "      <th></th>\n",
       "      <th></th>\n",
       "    </tr>\n",
       "  </thead>\n",
       "  <tbody>\n",
       "    <tr>\n",
       "      <th>2020-11-10 22:00:00</th>\n",
       "      <td>32.164</td>\n",
       "      <td>24.574</td>\n",
       "      <td>36.163</td>\n",
       "      <td>10.97</td>\n",
       "    </tr>\n",
       "    <tr>\n",
       "      <th>2020-11-10 23:00:00</th>\n",
       "      <td>32.316</td>\n",
       "      <td>24.716</td>\n",
       "      <td>36.200</td>\n",
       "      <td>10.83</td>\n",
       "    </tr>\n",
       "    <tr>\n",
       "      <th>2020-11-11 00:00:00</th>\n",
       "      <td>32.331</td>\n",
       "      <td>24.726</td>\n",
       "      <td>36.223</td>\n",
       "      <td>10.84</td>\n",
       "    </tr>\n",
       "    <tr>\n",
       "      <th>2020-11-11 01:00:00</th>\n",
       "      <td>32.404</td>\n",
       "      <td>24.789</td>\n",
       "      <td>36.262</td>\n",
       "      <td>10.80</td>\n",
       "    </tr>\n",
       "    <tr>\n",
       "      <th>2020-11-11 02:00:00</th>\n",
       "      <td>32.447</td>\n",
       "      <td>24.826</td>\n",
       "      <td>36.288</td>\n",
       "      <td>10.78</td>\n",
       "    </tr>\n",
       "  </tbody>\n",
       "</table>\n",
       "</div>"
      ],
      "text/plain": [
       "                     Salinity  Sigma_t  Conductivity  Temperature\n",
       "Time[GMT]                                                        \n",
       "2020-11-10 22:00:00    32.164   24.574        36.163        10.97\n",
       "2020-11-10 23:00:00    32.316   24.716        36.200        10.83\n",
       "2020-11-11 00:00:00    32.331   24.726        36.223        10.84\n",
       "2020-11-11 01:00:00    32.404   24.789        36.262        10.80\n",
       "2020-11-11 02:00:00    32.447   24.826        36.288        10.78"
      ]
     },
     "execution_count": 6,
     "metadata": {},
     "output_type": "execute_result"
    }
   ],
   "source": [
    " gm.head()"
   ]
  },
  {
   "cell_type": "markdown",
   "metadata": {},
   "source": [
    "### Subset Pandas Dataframe By DateTime\n",
    "Using a datetime index with Pandas makes it  easy to select data using attributes of the index such as month.\n",
    "\n",
    "The datetime index can be accessed  by  passing in the year or year and month as strings\n"
   ]
  },
  {
   "cell_type": "code",
   "execution_count": 46,
   "metadata": {},
   "outputs": [
    {
     "data": {
      "text/html": [
       "<div>\n",
       "<style scoped>\n",
       "    .dataframe tbody tr th:only-of-type {\n",
       "        vertical-align: middle;\n",
       "    }\n",
       "\n",
       "    .dataframe tbody tr th {\n",
       "        vertical-align: top;\n",
       "    }\n",
       "\n",
       "    .dataframe thead th {\n",
       "        text-align: right;\n",
       "    }\n",
       "</style>\n",
       "<table border=\"1\" class=\"dataframe\">\n",
       "  <thead>\n",
       "    <tr style=\"text-align: right;\">\n",
       "      <th></th>\n",
       "      <th>Salinity</th>\n",
       "      <th>Sigma_t</th>\n",
       "      <th>Conductivity</th>\n",
       "      <th>Temperature</th>\n",
       "    </tr>\n",
       "    <tr>\n",
       "      <th>Time[GMT]</th>\n",
       "      <th></th>\n",
       "      <th></th>\n",
       "      <th></th>\n",
       "      <th></th>\n",
       "    </tr>\n",
       "  </thead>\n",
       "  <tbody>\n",
       "    <tr>\n",
       "      <th>2020-11-10 22:00:00</th>\n",
       "      <td>32.164</td>\n",
       "      <td>24.574</td>\n",
       "      <td>36.163</td>\n",
       "      <td>10.97</td>\n",
       "    </tr>\n",
       "    <tr>\n",
       "      <th>2020-11-10 23:00:00</th>\n",
       "      <td>32.316</td>\n",
       "      <td>24.716</td>\n",
       "      <td>36.200</td>\n",
       "      <td>10.83</td>\n",
       "    </tr>\n",
       "    <tr>\n",
       "      <th>2020-11-11 00:00:00</th>\n",
       "      <td>32.331</td>\n",
       "      <td>24.726</td>\n",
       "      <td>36.223</td>\n",
       "      <td>10.84</td>\n",
       "    </tr>\n",
       "    <tr>\n",
       "      <th>2020-11-11 01:00:00</th>\n",
       "      <td>32.404</td>\n",
       "      <td>24.789</td>\n",
       "      <td>36.262</td>\n",
       "      <td>10.80</td>\n",
       "    </tr>\n",
       "    <tr>\n",
       "      <th>2020-11-11 02:00:00</th>\n",
       "      <td>32.447</td>\n",
       "      <td>24.826</td>\n",
       "      <td>36.288</td>\n",
       "      <td>10.78</td>\n",
       "    </tr>\n",
       "    <tr>\n",
       "      <th>...</th>\n",
       "      <td>...</td>\n",
       "      <td>...</td>\n",
       "      <td>...</td>\n",
       "      <td>...</td>\n",
       "    </tr>\n",
       "    <tr>\n",
       "      <th>2020-12-31 19:00:00</th>\n",
       "      <td>32.185</td>\n",
       "      <td>25.244</td>\n",
       "      <td>32.449</td>\n",
       "      <td>6.68</td>\n",
       "    </tr>\n",
       "    <tr>\n",
       "      <th>2020-12-31 20:00:00</th>\n",
       "      <td>32.143</td>\n",
       "      <td>25.215</td>\n",
       "      <td>32.385</td>\n",
       "      <td>6.65</td>\n",
       "    </tr>\n",
       "    <tr>\n",
       "      <th>2020-12-31 21:00:00</th>\n",
       "      <td>32.157</td>\n",
       "      <td>25.224</td>\n",
       "      <td>32.412</td>\n",
       "      <td>6.66</td>\n",
       "    </tr>\n",
       "    <tr>\n",
       "      <th>2020-12-31 22:00:00</th>\n",
       "      <td>32.146</td>\n",
       "      <td>25.204</td>\n",
       "      <td>32.475</td>\n",
       "      <td>6.75</td>\n",
       "    </tr>\n",
       "    <tr>\n",
       "      <th>2020-12-31 23:00:00</th>\n",
       "      <td>31.961</td>\n",
       "      <td>25.099</td>\n",
       "      <td>32.039</td>\n",
       "      <td>6.43</td>\n",
       "    </tr>\n",
       "  </tbody>\n",
       "</table>\n",
       "<p>1226 rows × 4 columns</p>\n",
       "</div>"
      ],
      "text/plain": [
       "                     Salinity  Sigma_t  Conductivity  Temperature\n",
       "Time[GMT]                                                        \n",
       "2020-11-10 22:00:00    32.164   24.574        36.163        10.97\n",
       "2020-11-10 23:00:00    32.316   24.716        36.200        10.83\n",
       "2020-11-11 00:00:00    32.331   24.726        36.223        10.84\n",
       "2020-11-11 01:00:00    32.404   24.789        36.262        10.80\n",
       "2020-11-11 02:00:00    32.447   24.826        36.288        10.78\n",
       "...                       ...      ...           ...          ...\n",
       "2020-12-31 19:00:00    32.185   25.244        32.449         6.68\n",
       "2020-12-31 20:00:00    32.143   25.215        32.385         6.65\n",
       "2020-12-31 21:00:00    32.157   25.224        32.412         6.66\n",
       "2020-12-31 22:00:00    32.146   25.204        32.475         6.75\n",
       "2020-12-31 23:00:00    31.961   25.099        32.039         6.43\n",
       "\n",
       "[1226 rows x 4 columns]"
      ]
     },
     "execution_count": 46,
     "metadata": {},
     "output_type": "execute_result"
    }
   ],
   "source": [
    "gm.loc[\"2020\"]"
   ]
  },
  {
   "cell_type": "code",
   "execution_count": 45,
   "metadata": {},
   "outputs": [],
   "source": [
    "s2020=gm.loc[\"2020\"]"
   ]
  },
  {
   "cell_type": "code",
   "execution_count": 47,
   "metadata": {},
   "outputs": [
    {
     "data": {
      "text/html": [
       "<div>\n",
       "<style scoped>\n",
       "    .dataframe tbody tr th:only-of-type {\n",
       "        vertical-align: middle;\n",
       "    }\n",
       "\n",
       "    .dataframe tbody tr th {\n",
       "        vertical-align: top;\n",
       "    }\n",
       "\n",
       "    .dataframe thead th {\n",
       "        text-align: right;\n",
       "    }\n",
       "</style>\n",
       "<table border=\"1\" class=\"dataframe\">\n",
       "  <thead>\n",
       "    <tr style=\"text-align: right;\">\n",
       "      <th></th>\n",
       "      <th>Salinity</th>\n",
       "      <th>Sigma_t</th>\n",
       "      <th>Conductivity</th>\n",
       "      <th>Temperature</th>\n",
       "    </tr>\n",
       "    <tr>\n",
       "      <th>Time[GMT]</th>\n",
       "      <th></th>\n",
       "      <th></th>\n",
       "      <th></th>\n",
       "      <th></th>\n",
       "    </tr>\n",
       "  </thead>\n",
       "  <tbody>\n",
       "    <tr>\n",
       "      <th>2020-12-01 00:00:00</th>\n",
       "      <td>32.126</td>\n",
       "      <td>24.857</td>\n",
       "      <td>34.465</td>\n",
       "      <td>9.08</td>\n",
       "    </tr>\n",
       "    <tr>\n",
       "      <th>2020-12-01 01:00:00</th>\n",
       "      <td>31.992</td>\n",
       "      <td>24.756</td>\n",
       "      <td>34.312</td>\n",
       "      <td>9.05</td>\n",
       "    </tr>\n",
       "    <tr>\n",
       "      <th>2020-12-01 02:00:00</th>\n",
       "      <td>32.052</td>\n",
       "      <td>24.799</td>\n",
       "      <td>34.395</td>\n",
       "      <td>9.08</td>\n",
       "    </tr>\n",
       "    <tr>\n",
       "      <th>2020-12-01 03:00:00</th>\n",
       "      <td>32.044</td>\n",
       "      <td>24.800</td>\n",
       "      <td>34.340</td>\n",
       "      <td>9.02</td>\n",
       "    </tr>\n",
       "    <tr>\n",
       "      <th>2020-12-01 04:00:00</th>\n",
       "      <td>32.072</td>\n",
       "      <td>24.821</td>\n",
       "      <td>34.377</td>\n",
       "      <td>9.04</td>\n",
       "    </tr>\n",
       "    <tr>\n",
       "      <th>...</th>\n",
       "      <td>...</td>\n",
       "      <td>...</td>\n",
       "      <td>...</td>\n",
       "      <td>...</td>\n",
       "    </tr>\n",
       "    <tr>\n",
       "      <th>2020-12-31 19:00:00</th>\n",
       "      <td>32.185</td>\n",
       "      <td>25.244</td>\n",
       "      <td>32.449</td>\n",
       "      <td>6.68</td>\n",
       "    </tr>\n",
       "    <tr>\n",
       "      <th>2020-12-31 20:00:00</th>\n",
       "      <td>32.143</td>\n",
       "      <td>25.215</td>\n",
       "      <td>32.385</td>\n",
       "      <td>6.65</td>\n",
       "    </tr>\n",
       "    <tr>\n",
       "      <th>2020-12-31 21:00:00</th>\n",
       "      <td>32.157</td>\n",
       "      <td>25.224</td>\n",
       "      <td>32.412</td>\n",
       "      <td>6.66</td>\n",
       "    </tr>\n",
       "    <tr>\n",
       "      <th>2020-12-31 22:00:00</th>\n",
       "      <td>32.146</td>\n",
       "      <td>25.204</td>\n",
       "      <td>32.475</td>\n",
       "      <td>6.75</td>\n",
       "    </tr>\n",
       "    <tr>\n",
       "      <th>2020-12-31 23:00:00</th>\n",
       "      <td>31.961</td>\n",
       "      <td>25.099</td>\n",
       "      <td>32.039</td>\n",
       "      <td>6.43</td>\n",
       "    </tr>\n",
       "  </tbody>\n",
       "</table>\n",
       "<p>744 rows × 4 columns</p>\n",
       "</div>"
      ],
      "text/plain": [
       "                     Salinity  Sigma_t  Conductivity  Temperature\n",
       "Time[GMT]                                                        \n",
       "2020-12-01 00:00:00    32.126   24.857        34.465         9.08\n",
       "2020-12-01 01:00:00    31.992   24.756        34.312         9.05\n",
       "2020-12-01 02:00:00    32.052   24.799        34.395         9.08\n",
       "2020-12-01 03:00:00    32.044   24.800        34.340         9.02\n",
       "2020-12-01 04:00:00    32.072   24.821        34.377         9.04\n",
       "...                       ...      ...           ...          ...\n",
       "2020-12-31 19:00:00    32.185   25.244        32.449         6.68\n",
       "2020-12-31 20:00:00    32.143   25.215        32.385         6.65\n",
       "2020-12-31 21:00:00    32.157   25.224        32.412         6.66\n",
       "2020-12-31 22:00:00    32.146   25.204        32.475         6.75\n",
       "2020-12-31 23:00:00    31.961   25.099        32.039         6.43\n",
       "\n",
       "[744 rows x 4 columns]"
      ]
     },
     "execution_count": 47,
     "metadata": {},
     "output_type": "execute_result"
    }
   ],
   "source": [
    "gm.loc[\"2020-12\"]"
   ]
  },
  {
   "cell_type": "code",
   "execution_count": 51,
   "metadata": {},
   "outputs": [],
   "source": [
    "dec=gm.loc[\"2020-12\"]"
   ]
  },
  {
   "cell_type": "markdown",
   "metadata": {},
   "source": [
    "This starts on the very first time in the month, and includes the last date and time for the month:"
   ]
  },
  {
   "cell_type": "code",
   "execution_count": 48,
   "metadata": {},
   "outputs": [
    {
     "data": {
      "text/html": [
       "<div>\n",
       "<style scoped>\n",
       "    .dataframe tbody tr th:only-of-type {\n",
       "        vertical-align: middle;\n",
       "    }\n",
       "\n",
       "    .dataframe tbody tr th {\n",
       "        vertical-align: top;\n",
       "    }\n",
       "\n",
       "    .dataframe thead th {\n",
       "        text-align: right;\n",
       "    }\n",
       "</style>\n",
       "<table border=\"1\" class=\"dataframe\">\n",
       "  <thead>\n",
       "    <tr style=\"text-align: right;\">\n",
       "      <th></th>\n",
       "      <th>Salinity</th>\n",
       "      <th>Sigma_t</th>\n",
       "      <th>Conductivity</th>\n",
       "      <th>Temperature</th>\n",
       "    </tr>\n",
       "    <tr>\n",
       "      <th>Time[GMT]</th>\n",
       "      <th></th>\n",
       "      <th></th>\n",
       "      <th></th>\n",
       "      <th></th>\n",
       "    </tr>\n",
       "  </thead>\n",
       "  <tbody>\n",
       "    <tr>\n",
       "      <th>2021-01-01 00:00:00</th>\n",
       "      <td>32.016</td>\n",
       "      <td>25.136</td>\n",
       "      <td>32.127</td>\n",
       "      <td>6.48</td>\n",
       "    </tr>\n",
       "    <tr>\n",
       "      <th>2021-01-01 01:00:00</th>\n",
       "      <td>32.103</td>\n",
       "      <td>25.191</td>\n",
       "      <td>32.304</td>\n",
       "      <td>6.59</td>\n",
       "    </tr>\n",
       "    <tr>\n",
       "      <th>2021-01-01 02:00:00</th>\n",
       "      <td>31.845</td>\n",
       "      <td>25.024</td>\n",
       "      <td>31.822</td>\n",
       "      <td>6.30</td>\n",
       "    </tr>\n",
       "    <tr>\n",
       "      <th>2021-01-01 03:00:00</th>\n",
       "      <td>31.454</td>\n",
       "      <td>24.734</td>\n",
       "      <td>31.334</td>\n",
       "      <td>6.14</td>\n",
       "    </tr>\n",
       "    <tr>\n",
       "      <th>2021-01-01 04:00:00</th>\n",
       "      <td>31.545</td>\n",
       "      <td>24.806</td>\n",
       "      <td>31.424</td>\n",
       "      <td>6.15</td>\n",
       "    </tr>\n",
       "    <tr>\n",
       "      <th>...</th>\n",
       "      <td>...</td>\n",
       "      <td>...</td>\n",
       "      <td>...</td>\n",
       "      <td>...</td>\n",
       "    </tr>\n",
       "    <tr>\n",
       "      <th>2021-02-28 19:00:00</th>\n",
       "      <td>32.345</td>\n",
       "      <td>25.725</td>\n",
       "      <td>29.876</td>\n",
       "      <td>3.47</td>\n",
       "    </tr>\n",
       "    <tr>\n",
       "      <th>2021-02-28 20:00:00</th>\n",
       "      <td>32.345</td>\n",
       "      <td>25.728</td>\n",
       "      <td>29.848</td>\n",
       "      <td>3.43</td>\n",
       "    </tr>\n",
       "    <tr>\n",
       "      <th>2021-02-28 21:00:00</th>\n",
       "      <td>32.318</td>\n",
       "      <td>25.711</td>\n",
       "      <td>29.787</td>\n",
       "      <td>3.39</td>\n",
       "    </tr>\n",
       "    <tr>\n",
       "      <th>2021-02-28 22:00:00</th>\n",
       "      <td>32.326</td>\n",
       "      <td>25.716</td>\n",
       "      <td>29.800</td>\n",
       "      <td>3.39</td>\n",
       "    </tr>\n",
       "    <tr>\n",
       "      <th>2021-02-28 23:00:00</th>\n",
       "      <td>32.292</td>\n",
       "      <td>25.697</td>\n",
       "      <td>29.706</td>\n",
       "      <td>3.31</td>\n",
       "    </tr>\n",
       "  </tbody>\n",
       "</table>\n",
       "<p>1416 rows × 4 columns</p>\n",
       "</div>"
      ],
      "text/plain": [
       "                     Salinity  Sigma_t  Conductivity  Temperature\n",
       "Time[GMT]                                                        \n",
       "2021-01-01 00:00:00    32.016   25.136        32.127         6.48\n",
       "2021-01-01 01:00:00    32.103   25.191        32.304         6.59\n",
       "2021-01-01 02:00:00    31.845   25.024        31.822         6.30\n",
       "2021-01-01 03:00:00    31.454   24.734        31.334         6.14\n",
       "2021-01-01 04:00:00    31.545   24.806        31.424         6.15\n",
       "...                       ...      ...           ...          ...\n",
       "2021-02-28 19:00:00    32.345   25.725        29.876         3.47\n",
       "2021-02-28 20:00:00    32.345   25.728        29.848         3.43\n",
       "2021-02-28 21:00:00    32.318   25.711        29.787         3.39\n",
       "2021-02-28 22:00:00    32.326   25.716        29.800         3.39\n",
       "2021-02-28 23:00:00    32.292   25.697        29.706         3.31\n",
       "\n",
       "[1416 rows x 4 columns]"
      ]
     },
     "execution_count": 48,
     "metadata": {},
     "output_type": "execute_result"
    }
   ],
   "source": [
    "gm[\"2021-1\":\"2021-2\"]"
   ]
  },
  {
   "cell_type": "markdown",
   "metadata": {},
   "source": [
    "This specifies an exact stop time (and is not the same as the above):"
   ]
  },
  {
   "cell_type": "code",
   "execution_count": 11,
   "metadata": {},
   "outputs": [
    {
     "data": {
      "text/html": [
       "<div>\n",
       "<style scoped>\n",
       "    .dataframe tbody tr th:only-of-type {\n",
       "        vertical-align: middle;\n",
       "    }\n",
       "\n",
       "    .dataframe tbody tr th {\n",
       "        vertical-align: top;\n",
       "    }\n",
       "\n",
       "    .dataframe thead th {\n",
       "        text-align: right;\n",
       "    }\n",
       "</style>\n",
       "<table border=\"1\" class=\"dataframe\">\n",
       "  <thead>\n",
       "    <tr style=\"text-align: right;\">\n",
       "      <th></th>\n",
       "      <th>Salinity</th>\n",
       "      <th>Sigma_t</th>\n",
       "      <th>Conductivity</th>\n",
       "      <th>Temperature</th>\n",
       "    </tr>\n",
       "    <tr>\n",
       "      <th>Time[GMT]</th>\n",
       "      <th></th>\n",
       "      <th></th>\n",
       "      <th></th>\n",
       "      <th></th>\n",
       "    </tr>\n",
       "  </thead>\n",
       "  <tbody>\n",
       "    <tr>\n",
       "      <th>2021-01-01 00:00:00</th>\n",
       "      <td>32.016</td>\n",
       "      <td>25.136</td>\n",
       "      <td>32.127</td>\n",
       "      <td>6.48</td>\n",
       "    </tr>\n",
       "    <tr>\n",
       "      <th>2021-01-01 01:00:00</th>\n",
       "      <td>32.103</td>\n",
       "      <td>25.191</td>\n",
       "      <td>32.304</td>\n",
       "      <td>6.59</td>\n",
       "    </tr>\n",
       "    <tr>\n",
       "      <th>2021-01-01 02:00:00</th>\n",
       "      <td>31.845</td>\n",
       "      <td>25.024</td>\n",
       "      <td>31.822</td>\n",
       "      <td>6.30</td>\n",
       "    </tr>\n",
       "    <tr>\n",
       "      <th>2021-01-01 03:00:00</th>\n",
       "      <td>31.454</td>\n",
       "      <td>24.734</td>\n",
       "      <td>31.334</td>\n",
       "      <td>6.14</td>\n",
       "    </tr>\n",
       "    <tr>\n",
       "      <th>2021-01-01 04:00:00</th>\n",
       "      <td>31.545</td>\n",
       "      <td>24.806</td>\n",
       "      <td>31.424</td>\n",
       "      <td>6.15</td>\n",
       "    </tr>\n",
       "    <tr>\n",
       "      <th>...</th>\n",
       "      <td>...</td>\n",
       "      <td>...</td>\n",
       "      <td>...</td>\n",
       "      <td>...</td>\n",
       "    </tr>\n",
       "    <tr>\n",
       "      <th>2021-02-27 20:00:00</th>\n",
       "      <td>32.360</td>\n",
       "      <td>25.733</td>\n",
       "      <td>29.924</td>\n",
       "      <td>3.51</td>\n",
       "    </tr>\n",
       "    <tr>\n",
       "      <th>2021-02-27 21:00:00</th>\n",
       "      <td>32.363</td>\n",
       "      <td>25.735</td>\n",
       "      <td>29.928</td>\n",
       "      <td>3.51</td>\n",
       "    </tr>\n",
       "    <tr>\n",
       "      <th>2021-02-27 22:00:00</th>\n",
       "      <td>32.322</td>\n",
       "      <td>25.713</td>\n",
       "      <td>29.801</td>\n",
       "      <td>3.40</td>\n",
       "    </tr>\n",
       "    <tr>\n",
       "      <th>2021-02-27 23:00:00</th>\n",
       "      <td>32.237</td>\n",
       "      <td>25.659</td>\n",
       "      <td>29.599</td>\n",
       "      <td>3.24</td>\n",
       "    </tr>\n",
       "    <tr>\n",
       "      <th>2021-02-28 00:00:00</th>\n",
       "      <td>32.270</td>\n",
       "      <td>25.679</td>\n",
       "      <td>29.680</td>\n",
       "      <td>3.31</td>\n",
       "    </tr>\n",
       "  </tbody>\n",
       "</table>\n",
       "<p>1393 rows × 4 columns</p>\n",
       "</div>"
      ],
      "text/plain": [
       "                     Salinity  Sigma_t  Conductivity  Temperature\n",
       "Time[GMT]                                                        \n",
       "2021-01-01 00:00:00    32.016   25.136        32.127         6.48\n",
       "2021-01-01 01:00:00    32.103   25.191        32.304         6.59\n",
       "2021-01-01 02:00:00    31.845   25.024        31.822         6.30\n",
       "2021-01-01 03:00:00    31.454   24.734        31.334         6.14\n",
       "2021-01-01 04:00:00    31.545   24.806        31.424         6.15\n",
       "...                       ...      ...           ...          ...\n",
       "2021-02-27 20:00:00    32.360   25.733        29.924         3.51\n",
       "2021-02-27 21:00:00    32.363   25.735        29.928         3.51\n",
       "2021-02-27 22:00:00    32.322   25.713        29.801         3.40\n",
       "2021-02-27 23:00:00    32.237   25.659        29.599         3.24\n",
       "2021-02-28 00:00:00    32.270   25.679        29.680         3.31\n",
       "\n",
       "[1393 rows x 4 columns]"
      ]
     },
     "execution_count": 11,
     "metadata": {},
     "output_type": "execute_result"
    }
   ],
   "source": [
    "gm[\"2021-1\":\"2021-2-28 00:00:00\"]"
   ]
  },
  {
   "cell_type": "markdown",
   "metadata": {},
   "source": [
    "This stops on the included end-point as it is part of the index:"
   ]
  },
  {
   "cell_type": "code",
   "execution_count": 14,
   "metadata": {},
   "outputs": [
    {
     "data": {
      "text/html": [
       "<div>\n",
       "<style scoped>\n",
       "    .dataframe tbody tr th:only-of-type {\n",
       "        vertical-align: middle;\n",
       "    }\n",
       "\n",
       "    .dataframe tbody tr th {\n",
       "        vertical-align: top;\n",
       "    }\n",
       "\n",
       "    .dataframe thead th {\n",
       "        text-align: right;\n",
       "    }\n",
       "</style>\n",
       "<table border=\"1\" class=\"dataframe\">\n",
       "  <thead>\n",
       "    <tr style=\"text-align: right;\">\n",
       "      <th></th>\n",
       "      <th>Salinity</th>\n",
       "      <th>Sigma_t</th>\n",
       "      <th>Conductivity</th>\n",
       "      <th>Temperature</th>\n",
       "    </tr>\n",
       "    <tr>\n",
       "      <th>Time[GMT]</th>\n",
       "      <th></th>\n",
       "      <th></th>\n",
       "      <th></th>\n",
       "      <th></th>\n",
       "    </tr>\n",
       "  </thead>\n",
       "  <tbody>\n",
       "    <tr>\n",
       "      <th>2021-01-15 00:00:00</th>\n",
       "      <td>32.103</td>\n",
       "      <td>25.311</td>\n",
       "      <td>31.465</td>\n",
       "      <td>5.61</td>\n",
       "    </tr>\n",
       "    <tr>\n",
       "      <th>2021-01-15 01:00:00</th>\n",
       "      <td>32.069</td>\n",
       "      <td>25.284</td>\n",
       "      <td>31.438</td>\n",
       "      <td>5.61</td>\n",
       "    </tr>\n",
       "    <tr>\n",
       "      <th>2021-01-15 02:00:00</th>\n",
       "      <td>31.913</td>\n",
       "      <td>25.170</td>\n",
       "      <td>31.231</td>\n",
       "      <td>5.53</td>\n",
       "    </tr>\n",
       "    <tr>\n",
       "      <th>2021-01-15 03:00:00</th>\n",
       "      <td>31.878</td>\n",
       "      <td>25.141</td>\n",
       "      <td>31.211</td>\n",
       "      <td>5.54</td>\n",
       "    </tr>\n",
       "    <tr>\n",
       "      <th>2021-01-15 04:00:00</th>\n",
       "      <td>31.926</td>\n",
       "      <td>25.181</td>\n",
       "      <td>31.229</td>\n",
       "      <td>5.51</td>\n",
       "    </tr>\n",
       "    <tr>\n",
       "      <th>2021-01-15 05:00:00</th>\n",
       "      <td>31.992</td>\n",
       "      <td>25.236</td>\n",
       "      <td>31.274</td>\n",
       "      <td>5.50</td>\n",
       "    </tr>\n",
       "    <tr>\n",
       "      <th>2021-01-15 06:00:00</th>\n",
       "      <td>31.988</td>\n",
       "      <td>25.227</td>\n",
       "      <td>31.312</td>\n",
       "      <td>5.55</td>\n",
       "    </tr>\n",
       "    <tr>\n",
       "      <th>2021-01-15 07:00:00</th>\n",
       "      <td>32.061</td>\n",
       "      <td>25.286</td>\n",
       "      <td>31.370</td>\n",
       "      <td>5.54</td>\n",
       "    </tr>\n",
       "    <tr>\n",
       "      <th>2021-01-15 08:00:00</th>\n",
       "      <td>32.204</td>\n",
       "      <td>25.397</td>\n",
       "      <td>31.507</td>\n",
       "      <td>5.55</td>\n",
       "    </tr>\n",
       "    <tr>\n",
       "      <th>2021-01-15 09:00:00</th>\n",
       "      <td>32.171</td>\n",
       "      <td>25.372</td>\n",
       "      <td>31.474</td>\n",
       "      <td>5.55</td>\n",
       "    </tr>\n",
       "    <tr>\n",
       "      <th>2021-01-15 10:00:00</th>\n",
       "      <td>32.029</td>\n",
       "      <td>25.258</td>\n",
       "      <td>31.364</td>\n",
       "      <td>5.56</td>\n",
       "    </tr>\n",
       "    <tr>\n",
       "      <th>2021-01-15 11:00:00</th>\n",
       "      <td>32.029</td>\n",
       "      <td>25.256</td>\n",
       "      <td>31.368</td>\n",
       "      <td>5.57</td>\n",
       "    </tr>\n",
       "    <tr>\n",
       "      <th>2021-01-15 12:00:00</th>\n",
       "      <td>32.052</td>\n",
       "      <td>25.274</td>\n",
       "      <td>31.396</td>\n",
       "      <td>5.58</td>\n",
       "    </tr>\n",
       "  </tbody>\n",
       "</table>\n",
       "</div>"
      ],
      "text/plain": [
       "                     Salinity  Sigma_t  Conductivity  Temperature\n",
       "Time[GMT]                                                        \n",
       "2021-01-15 00:00:00    32.103   25.311        31.465         5.61\n",
       "2021-01-15 01:00:00    32.069   25.284        31.438         5.61\n",
       "2021-01-15 02:00:00    31.913   25.170        31.231         5.53\n",
       "2021-01-15 03:00:00    31.878   25.141        31.211         5.54\n",
       "2021-01-15 04:00:00    31.926   25.181        31.229         5.51\n",
       "2021-01-15 05:00:00    31.992   25.236        31.274         5.50\n",
       "2021-01-15 06:00:00    31.988   25.227        31.312         5.55\n",
       "2021-01-15 07:00:00    32.061   25.286        31.370         5.54\n",
       "2021-01-15 08:00:00    32.204   25.397        31.507         5.55\n",
       "2021-01-15 09:00:00    32.171   25.372        31.474         5.55\n",
       "2021-01-15 10:00:00    32.029   25.258        31.364         5.56\n",
       "2021-01-15 11:00:00    32.029   25.256        31.368         5.57\n",
       "2021-01-15 12:00:00    32.052   25.274        31.396         5.58"
      ]
     },
     "execution_count": 14,
     "metadata": {},
     "output_type": "execute_result"
    }
   ],
   "source": [
    "gm[\"2021-1-15\":\"2021-1-15 12:00:00\"]"
   ]
  },
  {
   "cell_type": "markdown",
   "metadata": {},
   "source": [
    "### Resampling and converting frequencies\n",
    "One common need for time series data is resampling at a higher or lower frequency. This can be done using the resample() method, or the simpler asfreq() method. The primary difference between the two is that resample() is fundamentally a data aggregation, while asfreq() is fundamentally a data selection.\n",
    "\n",
    "resample groups data by a given periodicity. asfreq actually resamples data and is a concise way of changing the frequency of a DatetimeIndex object\n",
    "\n",
    "\n",
    "asfreq returns the original data conformed to a new index with the specified frequency. resample is more appropriate if an operation, such as summarization, is necessary to represent the data at the new frequency.\n"
   ]
  },
  {
   "cell_type": "code",
   "execution_count": 50,
   "metadata": {},
   "outputs": [
    {
     "data": {
      "text/html": [
       "<div>\n",
       "<style scoped>\n",
       "    .dataframe tbody tr th:only-of-type {\n",
       "        vertical-align: middle;\n",
       "    }\n",
       "\n",
       "    .dataframe tbody tr th {\n",
       "        vertical-align: top;\n",
       "    }\n",
       "\n",
       "    .dataframe thead th {\n",
       "        text-align: right;\n",
       "    }\n",
       "</style>\n",
       "<table border=\"1\" class=\"dataframe\">\n",
       "  <thead>\n",
       "    <tr style=\"text-align: right;\">\n",
       "      <th></th>\n",
       "      <th>Salinity</th>\n",
       "      <th>Sigma_t</th>\n",
       "      <th>Conductivity</th>\n",
       "      <th>Temperature</th>\n",
       "    </tr>\n",
       "    <tr>\n",
       "      <th>Time[GMT]</th>\n",
       "      <th></th>\n",
       "      <th></th>\n",
       "      <th></th>\n",
       "      <th></th>\n",
       "    </tr>\n",
       "  </thead>\n",
       "  <tbody>\n",
       "    <tr>\n",
       "      <th>2020-11-10 22:00:00</th>\n",
       "      <td>32.164</td>\n",
       "      <td>24.574</td>\n",
       "      <td>36.163</td>\n",
       "      <td>10.97</td>\n",
       "    </tr>\n",
       "    <tr>\n",
       "      <th>2020-11-10 23:00:00</th>\n",
       "      <td>32.316</td>\n",
       "      <td>24.716</td>\n",
       "      <td>36.200</td>\n",
       "      <td>10.83</td>\n",
       "    </tr>\n",
       "    <tr>\n",
       "      <th>2020-11-11 00:00:00</th>\n",
       "      <td>32.331</td>\n",
       "      <td>24.726</td>\n",
       "      <td>36.223</td>\n",
       "      <td>10.84</td>\n",
       "    </tr>\n",
       "    <tr>\n",
       "      <th>2020-11-11 01:00:00</th>\n",
       "      <td>32.404</td>\n",
       "      <td>24.789</td>\n",
       "      <td>36.262</td>\n",
       "      <td>10.80</td>\n",
       "    </tr>\n",
       "    <tr>\n",
       "      <th>2020-11-11 02:00:00</th>\n",
       "      <td>32.447</td>\n",
       "      <td>24.826</td>\n",
       "      <td>36.288</td>\n",
       "      <td>10.78</td>\n",
       "    </tr>\n",
       "  </tbody>\n",
       "</table>\n",
       "</div>"
      ],
      "text/plain": [
       "                     Salinity  Sigma_t  Conductivity  Temperature\n",
       "Time[GMT]                                                        \n",
       "2020-11-10 22:00:00    32.164   24.574        36.163        10.97\n",
       "2020-11-10 23:00:00    32.316   24.716        36.200        10.83\n",
       "2020-11-11 00:00:00    32.331   24.726        36.223        10.84\n",
       "2020-11-11 01:00:00    32.404   24.789        36.262        10.80\n",
       "2020-11-11 02:00:00    32.447   24.826        36.288        10.78"
      ]
     },
     "execution_count": 50,
     "metadata": {},
     "output_type": "execute_result"
    }
   ],
   "source": [
    "gm.head()"
   ]
  },
  {
   "cell_type": "code",
   "execution_count": 9,
   "metadata": {},
   "outputs": [
    {
     "data": {
      "text/html": [
       "<div>\n",
       "<style scoped>\n",
       "    .dataframe tbody tr th:only-of-type {\n",
       "        vertical-align: middle;\n",
       "    }\n",
       "\n",
       "    .dataframe tbody tr th {\n",
       "        vertical-align: top;\n",
       "    }\n",
       "\n",
       "    .dataframe thead th {\n",
       "        text-align: right;\n",
       "    }\n",
       "</style>\n",
       "<table border=\"1\" class=\"dataframe\">\n",
       "  <thead>\n",
       "    <tr style=\"text-align: right;\">\n",
       "      <th></th>\n",
       "      <th>Salinity</th>\n",
       "      <th>Sigma_t</th>\n",
       "      <th>Conductivity</th>\n",
       "      <th>Temperature</th>\n",
       "    </tr>\n",
       "    <tr>\n",
       "      <th>Time[GMT]</th>\n",
       "      <th></th>\n",
       "      <th></th>\n",
       "      <th></th>\n",
       "      <th></th>\n",
       "    </tr>\n",
       "  </thead>\n",
       "  <tbody>\n",
       "    <tr>\n",
       "      <th>2020-11-10 22:00:00</th>\n",
       "      <td>32.2400</td>\n",
       "      <td>24.6450</td>\n",
       "      <td>36.1815</td>\n",
       "      <td>10.900</td>\n",
       "    </tr>\n",
       "    <tr>\n",
       "      <th>2020-11-11 00:00:00</th>\n",
       "      <td>32.3675</td>\n",
       "      <td>24.7575</td>\n",
       "      <td>36.2425</td>\n",
       "      <td>10.820</td>\n",
       "    </tr>\n",
       "    <tr>\n",
       "      <th>2020-11-11 02:00:00</th>\n",
       "      <td>32.4430</td>\n",
       "      <td>24.8225</td>\n",
       "      <td>36.2850</td>\n",
       "      <td>10.785</td>\n",
       "    </tr>\n",
       "    <tr>\n",
       "      <th>2020-11-11 04:00:00</th>\n",
       "      <td>32.3620</td>\n",
       "      <td>24.7525</td>\n",
       "      <td>36.2435</td>\n",
       "      <td>10.830</td>\n",
       "    </tr>\n",
       "    <tr>\n",
       "      <th>2020-11-11 06:00:00</th>\n",
       "      <td>32.4145</td>\n",
       "      <td>24.7995</td>\n",
       "      <td>36.2645</td>\n",
       "      <td>10.795</td>\n",
       "    </tr>\n",
       "    <tr>\n",
       "      <th>...</th>\n",
       "      <td>...</td>\n",
       "      <td>...</td>\n",
       "      <td>...</td>\n",
       "      <td>...</td>\n",
       "    </tr>\n",
       "    <tr>\n",
       "      <th>2021-03-31 10:00:00</th>\n",
       "      <td>31.8835</td>\n",
       "      <td>25.2830</td>\n",
       "      <td>30.1380</td>\n",
       "      <td>4.250</td>\n",
       "    </tr>\n",
       "    <tr>\n",
       "      <th>2021-03-31 12:00:00</th>\n",
       "      <td>31.8370</td>\n",
       "      <td>25.2450</td>\n",
       "      <td>30.1065</td>\n",
       "      <td>4.260</td>\n",
       "    </tr>\n",
       "    <tr>\n",
       "      <th>2021-03-31 14:00:00</th>\n",
       "      <td>31.8950</td>\n",
       "      <td>25.2870</td>\n",
       "      <td>30.1930</td>\n",
       "      <td>4.305</td>\n",
       "    </tr>\n",
       "    <tr>\n",
       "      <th>2021-03-31 16:00:00</th>\n",
       "      <td>32.0655</td>\n",
       "      <td>25.4090</td>\n",
       "      <td>30.4470</td>\n",
       "      <td>4.435</td>\n",
       "    </tr>\n",
       "    <tr>\n",
       "      <th>2021-03-31 18:00:00</th>\n",
       "      <td>32.1085</td>\n",
       "      <td>25.4385</td>\n",
       "      <td>30.5270</td>\n",
       "      <td>4.485</td>\n",
       "    </tr>\n",
       "  </tbody>\n",
       "</table>\n",
       "<p>1691 rows × 4 columns</p>\n",
       "</div>"
      ],
      "text/plain": [
       "                     Salinity  Sigma_t  Conductivity  Temperature\n",
       "Time[GMT]                                                        \n",
       "2020-11-10 22:00:00   32.2400  24.6450       36.1815       10.900\n",
       "2020-11-11 00:00:00   32.3675  24.7575       36.2425       10.820\n",
       "2020-11-11 02:00:00   32.4430  24.8225       36.2850       10.785\n",
       "2020-11-11 04:00:00   32.3620  24.7525       36.2435       10.830\n",
       "2020-11-11 06:00:00   32.4145  24.7995       36.2645       10.795\n",
       "...                       ...      ...           ...          ...\n",
       "2021-03-31 10:00:00   31.8835  25.2830       30.1380        4.250\n",
       "2021-03-31 12:00:00   31.8370  25.2450       30.1065        4.260\n",
       "2021-03-31 14:00:00   31.8950  25.2870       30.1930        4.305\n",
       "2021-03-31 16:00:00   32.0655  25.4090       30.4470        4.435\n",
       "2021-03-31 18:00:00   32.1085  25.4385       30.5270        4.485\n",
       "\n",
       "[1691 rows x 4 columns]"
      ]
     },
     "execution_count": 9,
     "metadata": {},
     "output_type": "execute_result"
    }
   ],
   "source": [
    "gm.resample(\"2H\").mean()"
   ]
  },
  {
   "cell_type": "code",
   "execution_count": 49,
   "metadata": {},
   "outputs": [
    {
     "data": {
      "text/html": [
       "<div>\n",
       "<style scoped>\n",
       "    .dataframe tbody tr th:only-of-type {\n",
       "        vertical-align: middle;\n",
       "    }\n",
       "\n",
       "    .dataframe tbody tr th {\n",
       "        vertical-align: top;\n",
       "    }\n",
       "\n",
       "    .dataframe thead th {\n",
       "        text-align: right;\n",
       "    }\n",
       "</style>\n",
       "<table border=\"1\" class=\"dataframe\">\n",
       "  <thead>\n",
       "    <tr style=\"text-align: right;\">\n",
       "      <th></th>\n",
       "      <th>Salinity</th>\n",
       "      <th>Sigma_t</th>\n",
       "      <th>Conductivity</th>\n",
       "      <th>Temperature</th>\n",
       "    </tr>\n",
       "    <tr>\n",
       "      <th>Time[GMT]</th>\n",
       "      <th></th>\n",
       "      <th></th>\n",
       "      <th></th>\n",
       "      <th></th>\n",
       "    </tr>\n",
       "  </thead>\n",
       "  <tbody>\n",
       "    <tr>\n",
       "      <th>2020-11-10 22:00:00</th>\n",
       "      <td>32.164</td>\n",
       "      <td>24.574</td>\n",
       "      <td>36.163</td>\n",
       "      <td>10.97</td>\n",
       "    </tr>\n",
       "    <tr>\n",
       "      <th>2020-11-11 00:00:00</th>\n",
       "      <td>32.331</td>\n",
       "      <td>24.726</td>\n",
       "      <td>36.223</td>\n",
       "      <td>10.84</td>\n",
       "    </tr>\n",
       "    <tr>\n",
       "      <th>2020-11-11 02:00:00</th>\n",
       "      <td>32.447</td>\n",
       "      <td>24.826</td>\n",
       "      <td>36.288</td>\n",
       "      <td>10.78</td>\n",
       "    </tr>\n",
       "    <tr>\n",
       "      <th>2020-11-11 04:00:00</th>\n",
       "      <td>32.439</td>\n",
       "      <td>24.821</td>\n",
       "      <td>36.279</td>\n",
       "      <td>10.78</td>\n",
       "    </tr>\n",
       "    <tr>\n",
       "      <th>2020-11-11 06:00:00</th>\n",
       "      <td>32.428</td>\n",
       "      <td>24.812</td>\n",
       "      <td>36.268</td>\n",
       "      <td>10.78</td>\n",
       "    </tr>\n",
       "    <tr>\n",
       "      <th>...</th>\n",
       "      <td>...</td>\n",
       "      <td>...</td>\n",
       "      <td>...</td>\n",
       "      <td>...</td>\n",
       "    </tr>\n",
       "    <tr>\n",
       "      <th>2021-03-31 10:00:00</th>\n",
       "      <td>32.063</td>\n",
       "      <td>25.421</td>\n",
       "      <td>30.327</td>\n",
       "      <td>4.29</td>\n",
       "    </tr>\n",
       "    <tr>\n",
       "      <th>2021-03-31 12:00:00</th>\n",
       "      <td>31.884</td>\n",
       "      <td>25.282</td>\n",
       "      <td>30.149</td>\n",
       "      <td>4.26</td>\n",
       "    </tr>\n",
       "    <tr>\n",
       "      <th>2021-03-31 14:00:00</th>\n",
       "      <td>31.865</td>\n",
       "      <td>25.267</td>\n",
       "      <td>30.135</td>\n",
       "      <td>4.27</td>\n",
       "    </tr>\n",
       "    <tr>\n",
       "      <th>2021-03-31 16:00:00</th>\n",
       "      <td>32.038</td>\n",
       "      <td>25.389</td>\n",
       "      <td>30.410</td>\n",
       "      <td>4.42</td>\n",
       "    </tr>\n",
       "    <tr>\n",
       "      <th>2021-03-31 18:00:00</th>\n",
       "      <td>32.086</td>\n",
       "      <td>25.421</td>\n",
       "      <td>30.505</td>\n",
       "      <td>4.48</td>\n",
       "    </tr>\n",
       "  </tbody>\n",
       "</table>\n",
       "<p>1691 rows × 4 columns</p>\n",
       "</div>"
      ],
      "text/plain": [
       "                     Salinity  Sigma_t  Conductivity  Temperature\n",
       "Time[GMT]                                                        \n",
       "2020-11-10 22:00:00    32.164   24.574        36.163        10.97\n",
       "2020-11-11 00:00:00    32.331   24.726        36.223        10.84\n",
       "2020-11-11 02:00:00    32.447   24.826        36.288        10.78\n",
       "2020-11-11 04:00:00    32.439   24.821        36.279        10.78\n",
       "2020-11-11 06:00:00    32.428   24.812        36.268        10.78\n",
       "...                       ...      ...           ...          ...\n",
       "2021-03-31 10:00:00    32.063   25.421        30.327         4.29\n",
       "2021-03-31 12:00:00    31.884   25.282        30.149         4.26\n",
       "2021-03-31 14:00:00    31.865   25.267        30.135         4.27\n",
       "2021-03-31 16:00:00    32.038   25.389        30.410         4.42\n",
       "2021-03-31 18:00:00    32.086   25.421        30.505         4.48\n",
       "\n",
       "[1691 rows x 4 columns]"
      ]
     },
     "execution_count": 49,
     "metadata": {},
     "output_type": "execute_result"
    }
   ],
   "source": [
    "gm.asfreq(\"2H\")"
   ]
  },
  {
   "cell_type": "code",
   "execution_count": 52,
   "metadata": {},
   "outputs": [
    {
     "data": {
      "text/plain": [
       "(744, 4)"
      ]
     },
     "execution_count": 52,
     "metadata": {},
     "output_type": "execute_result"
    }
   ],
   "source": [
    "dec.shape"
   ]
  },
  {
   "cell_type": "code",
   "execution_count": 54,
   "metadata": {},
   "outputs": [],
   "source": [
    "%matplotlib inline\n",
    "import matplotlib.pyplot as plt\n",
    "import seaborn; seaborn.set()"
   ]
  },
  {
   "cell_type": "code",
   "execution_count": 55,
   "metadata": {},
   "outputs": [
    {
     "data": {
      "image/png": "[encoded data removed]",
      "text/plain": [
       "<Figure size 432x288 with 1 Axes>"
      ]
     },
     "metadata": {},
     "output_type": "display_data"
    }
   ],
   "source": [
    "dec['Salinity'].plot(alpha=0.5, style='-')\n",
    "dec['Salinity'].resample('D').mean().plot(style=':', linewidth=3.0)\n",
    "dec['Salinity'].asfreq('D').plot(style='--');\n",
    "plt.legend(['input', 'resample', 'asfreq'],\n",
    "           loc='lower right');"
   ]
  },
  {
   "cell_type": "code",
   "execution_count": 40,
   "metadata": {},
   "outputs": [
    {
     "data": {
      "image/png": "[encoded data removed]",
      "text/plain": [
       "<Figure size 432x288 with 1 Axes>"
      ]
     },
     "metadata": {},
     "output_type": "display_data"
    }
   ],
   "source": [
    "s2020['Salinity'].plot(alpha=0.5, style='-')\n",
    "s2020['Salinity'].resample('D').mean().plot(style=':', linewidth=3.0)\n",
    "#s2020['Salinity'].asfreq('D').plot(style='--',linewidth=3.0);\n",
    "plt.legend(['input', 'resample'],\n",
    "           loc='lower right');"
   ]
  }
 ],
 "metadata": {
  "kernelspec": {
   "display_name": "Python 3",
   "language": "python",
   "name": "python3"
  },
  "language_info": {
   "codemirror_mode": {
    "name": "ipython",
    "version": 3
   },
   "file_extension": ".py",
   "mimetype": "text/x-python",
   "name": "python",
   "nbconvert_exporter": "python",
   "pygments_lexer": "ipython3",
   "version": "3.6.12"
  }
 },
 "nbformat": 4,
 "nbformat_minor": 4
}
